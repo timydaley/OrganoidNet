{
 "cells": [
  {
   "cell_type": "code",
   "execution_count": 32,
   "metadata": {},
   "outputs": [
    {
     "name": "stdout",
     "output_type": "stream",
     "text": [
      "The autoreload extension is already loaded. To reload it, use:\n",
      "  %reload_ext autoreload\n"
     ]
    }
   ],
   "source": [
    "from skimage import io, transform\n",
    "import torch\n",
    "import torch.nn as nn\n",
    "import torch.optim as optim\n",
    "import torch.nn.functional as F\n",
    "from torch.utils.data import DataLoader\n",
    "from torch.utils.data import sampler\n",
    "import torchvision.datasets as dset\n",
    "import torchvision.transforms as T\n",
    "from dataLoader import OrganoidDataset\n",
    "from torch.utils import data\n",
    "import numpy as np\n",
    "import sys\n",
    "import pandas as pd\n",
    "\n",
    "from dataLoader import OrganoidDataset\n",
    "from conv_model import SimpleConvNet\n",
    "import matplotlib.pyplot as plt\n",
    "\n",
    "%matplotlib inline\n",
    "plt.rcParams['figure.figsize'] = (10.0, 8.0) # set default size of plots\n",
    "plt.rcParams['image.interpolation'] = 'nearest'\n",
    "plt.rcParams['image.cmap'] = 'gray'\n",
    "\n",
    "# for auto-reloading external modules\n",
    "# see http://stackoverflow.com/questions/1907993/autoreload-of-modules-in-ipython\n",
    "%load_ext autoreload\n",
    "%autoreload 2"
   ]
  },
  {
   "cell_type": "code",
   "execution_count": 33,
   "metadata": {},
   "outputs": [],
   "source": [
    "use_cuda = torch.cuda.is_available()\n",
    "device = torch.device(\"cuda:0\" if use_cuda else \"cpu\")\n",
    "\n",
    "params = {'batch_size': 100, # low for testing\n",
    "          'shuffle': True, 'num_workers' : 2}\n",
    "max_epochs = 100"
   ]
  },
  {
   "cell_type": "code",
   "execution_count": 34,
   "metadata": {},
   "outputs": [
    {
     "data": {
      "text/plain": [
       "True"
      ]
     },
     "execution_count": 34,
     "metadata": {},
     "output_type": "execute_result"
    }
   ],
   "source": [
    "use_cuda"
   ]
  },
  {
   "cell_type": "code",
   "execution_count": 35,
   "metadata": {},
   "outputs": [],
   "source": [
    "\n",
    "import pandas \n",
    "use_cuda = torch.cuda.is_available()\n",
    "device = torch.device(\"cuda:0\" if use_cuda else \"cpu\")\n",
    "\n",
    "params = {'batch_size': 100, # low for testing\n",
    "  'shuffle': True, 'num_workers' : 4}\n",
    "\n",
    "max_epochs = 100\n",
    "\n",
    "path = '../data/CS231n_Tim_Shan_example_data/'\n",
    "well_descriptions = pandas.read_csv('filtered_well_descriptions.txt', header=0)\n",
    "day1wells = well_descriptions['well_id']\n",
    "day1wells = day1wells[well_descriptions['day'] == 1]\n",
    "day1wells.shape\n",
    "day13wells = well_descriptions['well_id']\n",
    "day13wells = day13wells[well_descriptions['day'] == 13]\n",
    "day13wells.shape\n",
    "daysLabel = pandas.Series(list(set(day13wells) & set(day1wells)))\n",
    "\n",
    "\n",
    "well_labels = []\n",
    "for i in range(daysLabel.shape[0]):\n",
    "  i2str = str(daysLabel[i])\n",
    "  if len(i2str) == 1:\n",
    "    i2str = '000' + i2str\n",
    "  if len(i2str) == 2:\n",
    "    i2str = '00' + i2str\n",
    "  if len(i2str) == 3:\n",
    "    i2str = '0' + i2str\n",
    "  well_labels.append(i2str)\n",
    "\n",
    "day_label_X = ['01']*len(well_labels)\n",
    "n = len(well_labels)\n",
    "\n",
    "finalSizes = well_descriptions['hyst2_area']\n",
    "finalSizes = finalSizes[np.logical_and(well_descriptions['day'] == 13, np.isin(well_descriptions['well_id'], daysLabel))].values\n",
    "\n",
    "day1_mean_and_var = pandas.read_csv('day1_mean_and_var.txt', sep = '\\t', header = 0)\n",
    "\n",
    "initial_train_set = OrganoidDataset(path2files = path, well_labels = well_labels, day_label_X = day_label_X, Y = finalSizes, intensity_mean = day1_mean_and_var['mean'][0], intensity_var = day1_mean_and_var['variance'][0])\n",
    "training_generator = data.DataLoader(initial_train_set, **params)\n"
   ]
  },
  {
   "cell_type": "code",
   "execution_count": 39,
   "metadata": {},
   "outputs": [
    {
     "data": {
      "text/html": [
       "<div>\n",
       "<style scoped>\n",
       "    .dataframe tbody tr th:only-of-type {\n",
       "        vertical-align: middle;\n",
       "    }\n",
       "\n",
       "    .dataframe tbody tr th {\n",
       "        vertical-align: top;\n",
       "    }\n",
       "\n",
       "    .dataframe thead th {\n",
       "        text-align: right;\n",
       "    }\n",
       "</style>\n",
       "<table border=\"1\" class=\"dataframe\">\n",
       "  <thead>\n",
       "    <tr style=\"text-align: right;\">\n",
       "      <th></th>\n",
       "      <th>mean</th>\n",
       "      <th>variance</th>\n",
       "    </tr>\n",
       "  </thead>\n",
       "  <tbody>\n",
       "    <tr>\n",
       "      <th>0</th>\n",
       "      <td>0.504038</td>\n",
       "      <td>0.026985</td>\n",
       "    </tr>\n",
       "  </tbody>\n",
       "</table>\n",
       "</div>"
      ],
      "text/plain": [
       "       mean  variance\n",
       "0  0.504038  0.026985"
      ]
     },
     "execution_count": 39,
     "metadata": {},
     "output_type": "execute_result"
    }
   ],
   "source": [
    "day1_mean_and_var"
   ]
  },
  {
   "cell_type": "code",
   "execution_count": 36,
   "metadata": {},
   "outputs": [],
   "source": [
    "TOTAL = n"
   ]
  },
  {
   "cell_type": "code",
   "execution_count": 37,
   "metadata": {},
   "outputs": [
    {
     "data": {
      "text/plain": [
       "4642"
      ]
     },
     "execution_count": 37,
     "metadata": {},
     "output_type": "execute_result"
    }
   ],
   "source": [
    "n"
   ]
  },
  {
   "cell_type": "code",
   "execution_count": 38,
   "metadata": {},
   "outputs": [],
   "source": [
    "initial_val_set = OrganoidDataset(path2files = path, well_labels = well_labels[:500], day_label_X = day_label_X[:500], Y = finalSizes[:500], intensity_mean = day1_mean_and_var['mean'][0], intensity_var = day1_mean_and_var['variance'][0])\n",
    "val_generator = data.DataLoader(initial_val_set, **params)\n"
   ]
  },
  {
   "cell_type": "markdown",
   "metadata": {},
   "source": [
    "# preprocess data "
   ]
  },
  {
   "cell_type": "code",
   "execution_count": 12,
   "metadata": {},
   "outputs": [],
   "source": [
    "label_path = '../data/well_summary_A1_e0891BSA_all.csv'"
   ]
  },
  {
   "cell_type": "code",
   "execution_count": 13,
   "metadata": {},
   "outputs": [],
   "source": [
    "label = pd.read_csv(label_path)"
   ]
  },
  {
   "cell_type": "code",
   "execution_count": 14,
   "metadata": {},
   "outputs": [],
   "source": [
    "new_columns = ['well_id','day','median_pixel_intensity','mw_area_shape','hyst1_area','hyst2_area']\n",
    "label.columns = new_columns"
   ]
  },
  {
   "cell_type": "code",
   "execution_count": 15,
   "metadata": {},
   "outputs": [],
   "source": [
    "def get_image_name(well_id,day_id):\n",
    "    image_name = 'well'+str(well_id).zfill(4)+'_day'+str(day_id).zfill(2)+'_well.png'\n",
    "    return image_name\n",
    "def get_well_label(well_id):\n",
    "    return str(well_id).zfill(4)"
   ]
  },
  {
   "cell_type": "code",
   "execution_count": 16,
   "metadata": {},
   "outputs": [],
   "source": [
    "label['image_name'] = label[['well_id','day']].apply(lambda x: get_image_name(*x),axis=1)\n",
    "label['well_label'] = label['well_id'].apply(lambda x: get_well_label(x))"
   ]
  },
  {
   "cell_type": "code",
   "execution_count": 17,
   "metadata": {},
   "outputs": [
    {
     "data": {
      "text/html": [
       "<div>\n",
       "<style scoped>\n",
       "    .dataframe tbody tr th:only-of-type {\n",
       "        vertical-align: middle;\n",
       "    }\n",
       "\n",
       "    .dataframe tbody tr th {\n",
       "        vertical-align: top;\n",
       "    }\n",
       "\n",
       "    .dataframe thead th {\n",
       "        text-align: right;\n",
       "    }\n",
       "</style>\n",
       "<table border=\"1\" class=\"dataframe\">\n",
       "  <thead>\n",
       "    <tr style=\"text-align: right;\">\n",
       "      <th></th>\n",
       "      <th>well_id</th>\n",
       "      <th>day</th>\n",
       "      <th>median_pixel_intensity</th>\n",
       "      <th>mw_area_shape</th>\n",
       "      <th>hyst1_area</th>\n",
       "      <th>hyst2_area</th>\n",
       "      <th>image_name</th>\n",
       "      <th>well_label</th>\n",
       "    </tr>\n",
       "  </thead>\n",
       "  <tbody>\n",
       "    <tr>\n",
       "      <th>0</th>\n",
       "      <td>0</td>\n",
       "      <td>0</td>\n",
       "      <td>125.0</td>\n",
       "      <td>7830</td>\n",
       "      <td>512</td>\n",
       "      <td>418</td>\n",
       "      <td>well0000_day00_well.png</td>\n",
       "      <td>0000</td>\n",
       "    </tr>\n",
       "    <tr>\n",
       "      <th>1</th>\n",
       "      <td>1</td>\n",
       "      <td>0</td>\n",
       "      <td>125.0</td>\n",
       "      <td>8265</td>\n",
       "      <td>3044</td>\n",
       "      <td>3008</td>\n",
       "      <td>well0001_day00_well.png</td>\n",
       "      <td>0001</td>\n",
       "    </tr>\n",
       "  </tbody>\n",
       "</table>\n",
       "</div>"
      ],
      "text/plain": [
       "   well_id  day  median_pixel_intensity  mw_area_shape  hyst1_area  \\\n",
       "0        0    0                   125.0           7830         512   \n",
       "1        1    0                   125.0           8265        3044   \n",
       "\n",
       "   hyst2_area               image_name well_label  \n",
       "0         418  well0000_day00_well.png       0000  \n",
       "1        3008  well0001_day00_well.png       0001  "
      ]
     },
     "execution_count": 17,
     "metadata": {},
     "output_type": "execute_result"
    }
   ],
   "source": [
    "label.head(2)"
   ]
  },
  {
   "cell_type": "code",
   "execution_count": 18,
   "metadata": {
    "scrolled": true
   },
   "outputs": [
    {
     "data": {
      "text/html": [
       "<div>\n",
       "<style scoped>\n",
       "    .dataframe tbody tr th:only-of-type {\n",
       "        vertical-align: middle;\n",
       "    }\n",
       "\n",
       "    .dataframe tbody tr th {\n",
       "        vertical-align: top;\n",
       "    }\n",
       "\n",
       "    .dataframe thead th {\n",
       "        text-align: right;\n",
       "    }\n",
       "</style>\n",
       "<table border=\"1\" class=\"dataframe\">\n",
       "  <thead>\n",
       "    <tr style=\"text-align: right;\">\n",
       "      <th></th>\n",
       "      <th>well_id</th>\n",
       "      <th>day</th>\n",
       "      <th>median_pixel_intensity</th>\n",
       "      <th>mw_area_shape</th>\n",
       "      <th>hyst1_area</th>\n",
       "      <th>hyst2_area</th>\n",
       "      <th>image_name</th>\n",
       "      <th>well_label</th>\n",
       "    </tr>\n",
       "  </thead>\n",
       "  <tbody>\n",
       "    <tr>\n",
       "      <th>43203</th>\n",
       "      <td>3</td>\n",
       "      <td>9</td>\n",
       "      <td>133.0</td>\n",
       "      <td>33124</td>\n",
       "      <td>14317</td>\n",
       "      <td>13965</td>\n",
       "      <td>well0003_day09_well.png</td>\n",
       "      <td>0003</td>\n",
       "    </tr>\n",
       "    <tr>\n",
       "      <th>33605</th>\n",
       "      <td>5</td>\n",
       "      <td>7</td>\n",
       "      <td>144.0</td>\n",
       "      <td>33124</td>\n",
       "      <td>14895</td>\n",
       "      <td>14654</td>\n",
       "      <td>well0005_day07_well.png</td>\n",
       "      <td>0005</td>\n",
       "    </tr>\n",
       "    <tr>\n",
       "      <th>48005</th>\n",
       "      <td>5</td>\n",
       "      <td>10</td>\n",
       "      <td>132.0</td>\n",
       "      <td>33124</td>\n",
       "      <td>12929</td>\n",
       "      <td>12666</td>\n",
       "      <td>well0005_day10_well.png</td>\n",
       "      <td>0005</td>\n",
       "    </tr>\n",
       "    <tr>\n",
       "      <th>57605</th>\n",
       "      <td>5</td>\n",
       "      <td>12</td>\n",
       "      <td>135.0</td>\n",
       "      <td>33124</td>\n",
       "      <td>13279</td>\n",
       "      <td>12997</td>\n",
       "      <td>well0005_day12_well.png</td>\n",
       "      <td>0005</td>\n",
       "    </tr>\n",
       "    <tr>\n",
       "      <th>19207</th>\n",
       "      <td>7</td>\n",
       "      <td>4</td>\n",
       "      <td>132.0</td>\n",
       "      <td>33124</td>\n",
       "      <td>14855</td>\n",
       "      <td>14586</td>\n",
       "      <td>well0007_day04_well.png</td>\n",
       "      <td>0007</td>\n",
       "    </tr>\n",
       "    <tr>\n",
       "      <th>43223</th>\n",
       "      <td>23</td>\n",
       "      <td>9</td>\n",
       "      <td>133.0</td>\n",
       "      <td>33124</td>\n",
       "      <td>17816</td>\n",
       "      <td>17288</td>\n",
       "      <td>well0023_day09_well.png</td>\n",
       "      <td>0023</td>\n",
       "    </tr>\n",
       "    <tr>\n",
       "      <th>33625</th>\n",
       "      <td>25</td>\n",
       "      <td>7</td>\n",
       "      <td>144.0</td>\n",
       "      <td>33124</td>\n",
       "      <td>20824</td>\n",
       "      <td>19976</td>\n",
       "      <td>well0025_day07_well.png</td>\n",
       "      <td>0025</td>\n",
       "    </tr>\n",
       "    <tr>\n",
       "      <th>43225</th>\n",
       "      <td>25</td>\n",
       "      <td>9</td>\n",
       "      <td>127.0</td>\n",
       "      <td>33124</td>\n",
       "      <td>23727</td>\n",
       "      <td>23129</td>\n",
       "      <td>well0025_day09_well.png</td>\n",
       "      <td>0025</td>\n",
       "    </tr>\n",
       "    <tr>\n",
       "      <th>52825</th>\n",
       "      <td>25</td>\n",
       "      <td>11</td>\n",
       "      <td>128.0</td>\n",
       "      <td>33124</td>\n",
       "      <td>29729</td>\n",
       "      <td>29134</td>\n",
       "      <td>well0025_day11_well.png</td>\n",
       "      <td>0025</td>\n",
       "    </tr>\n",
       "    <tr>\n",
       "      <th>14430</th>\n",
       "      <td>30</td>\n",
       "      <td>3</td>\n",
       "      <td>143.0</td>\n",
       "      <td>33124</td>\n",
       "      <td>13660</td>\n",
       "      <td>13486</td>\n",
       "      <td>well0030_day03_well.png</td>\n",
       "      <td>0030</td>\n",
       "    </tr>\n",
       "    <tr>\n",
       "      <th>19231</th>\n",
       "      <td>31</td>\n",
       "      <td>4</td>\n",
       "      <td>130.0</td>\n",
       "      <td>32578</td>\n",
       "      <td>19228</td>\n",
       "      <td>19074</td>\n",
       "      <td>well0031_day04_well.png</td>\n",
       "      <td>0031</td>\n",
       "    </tr>\n",
       "    <tr>\n",
       "      <th>43231</th>\n",
       "      <td>31</td>\n",
       "      <td>9</td>\n",
       "      <td>124.0</td>\n",
       "      <td>33124</td>\n",
       "      <td>18932</td>\n",
       "      <td>18623</td>\n",
       "      <td>well0031_day09_well.png</td>\n",
       "      <td>0031</td>\n",
       "    </tr>\n",
       "    <tr>\n",
       "      <th>38442</th>\n",
       "      <td>42</td>\n",
       "      <td>8</td>\n",
       "      <td>135.0</td>\n",
       "      <td>33124</td>\n",
       "      <td>16166</td>\n",
       "      <td>15547</td>\n",
       "      <td>well0042_day08_well.png</td>\n",
       "      <td>0042</td>\n",
       "    </tr>\n",
       "    <tr>\n",
       "      <th>43242</th>\n",
       "      <td>42</td>\n",
       "      <td>9</td>\n",
       "      <td>135.0</td>\n",
       "      <td>33124</td>\n",
       "      <td>17738</td>\n",
       "      <td>16970</td>\n",
       "      <td>well0042_day09_well.png</td>\n",
       "      <td>0042</td>\n",
       "    </tr>\n",
       "    <tr>\n",
       "      <th>57642</th>\n",
       "      <td>42</td>\n",
       "      <td>12</td>\n",
       "      <td>138.0</td>\n",
       "      <td>33124</td>\n",
       "      <td>17080</td>\n",
       "      <td>16690</td>\n",
       "      <td>well0042_day12_well.png</td>\n",
       "      <td>0042</td>\n",
       "    </tr>\n",
       "    <tr>\n",
       "      <th>62442</th>\n",
       "      <td>42</td>\n",
       "      <td>13</td>\n",
       "      <td>145.0</td>\n",
       "      <td>33124</td>\n",
       "      <td>16798</td>\n",
       "      <td>16545</td>\n",
       "      <td>well0042_day13_well.png</td>\n",
       "      <td>0042</td>\n",
       "    </tr>\n",
       "    <tr>\n",
       "      <th>28844</th>\n",
       "      <td>44</td>\n",
       "      <td>6</td>\n",
       "      <td>139.0</td>\n",
       "      <td>33124</td>\n",
       "      <td>16545</td>\n",
       "      <td>16452</td>\n",
       "      <td>well0044_day06_well.png</td>\n",
       "      <td>0044</td>\n",
       "    </tr>\n",
       "    <tr>\n",
       "      <th>33644</th>\n",
       "      <td>44</td>\n",
       "      <td>7</td>\n",
       "      <td>146.0</td>\n",
       "      <td>33124</td>\n",
       "      <td>17761</td>\n",
       "      <td>17531</td>\n",
       "      <td>well0044_day07_well.png</td>\n",
       "      <td>0044</td>\n",
       "    </tr>\n",
       "    <tr>\n",
       "      <th>38444</th>\n",
       "      <td>44</td>\n",
       "      <td>8</td>\n",
       "      <td>137.0</td>\n",
       "      <td>33124</td>\n",
       "      <td>14639</td>\n",
       "      <td>14190</td>\n",
       "      <td>well0044_day08_well.png</td>\n",
       "      <td>0044</td>\n",
       "    </tr>\n",
       "    <tr>\n",
       "      <th>43244</th>\n",
       "      <td>44</td>\n",
       "      <td>9</td>\n",
       "      <td>134.0</td>\n",
       "      <td>33124</td>\n",
       "      <td>18120</td>\n",
       "      <td>17795</td>\n",
       "      <td>well0044_day09_well.png</td>\n",
       "      <td>0044</td>\n",
       "    </tr>\n",
       "    <tr>\n",
       "      <th>24051</th>\n",
       "      <td>51</td>\n",
       "      <td>5</td>\n",
       "      <td>131.0</td>\n",
       "      <td>33124</td>\n",
       "      <td>11556</td>\n",
       "      <td>11405</td>\n",
       "      <td>well0051_day05_well.png</td>\n",
       "      <td>0051</td>\n",
       "    </tr>\n",
       "    <tr>\n",
       "      <th>48051</th>\n",
       "      <td>51</td>\n",
       "      <td>10</td>\n",
       "      <td>128.0</td>\n",
       "      <td>33124</td>\n",
       "      <td>11986</td>\n",
       "      <td>11854</td>\n",
       "      <td>well0051_day10_well.png</td>\n",
       "      <td>0051</td>\n",
       "    </tr>\n",
       "    <tr>\n",
       "      <th>48066</th>\n",
       "      <td>66</td>\n",
       "      <td>10</td>\n",
       "      <td>137.0</td>\n",
       "      <td>33124</td>\n",
       "      <td>12705</td>\n",
       "      <td>12459</td>\n",
       "      <td>well0066_day10_well.png</td>\n",
       "      <td>0066</td>\n",
       "    </tr>\n",
       "    <tr>\n",
       "      <th>75</th>\n",
       "      <td>75</td>\n",
       "      <td>0</td>\n",
       "      <td>132.0</td>\n",
       "      <td>33124</td>\n",
       "      <td>13345</td>\n",
       "      <td>12605</td>\n",
       "      <td>well0075_day00_well.png</td>\n",
       "      <td>0075</td>\n",
       "    </tr>\n",
       "    <tr>\n",
       "      <th>52875</th>\n",
       "      <td>75</td>\n",
       "      <td>11</td>\n",
       "      <td>132.0</td>\n",
       "      <td>33124</td>\n",
       "      <td>18658</td>\n",
       "      <td>18355</td>\n",
       "      <td>well0075_day11_well.png</td>\n",
       "      <td>0075</td>\n",
       "    </tr>\n",
       "    <tr>\n",
       "      <th>78</th>\n",
       "      <td>78</td>\n",
       "      <td>0</td>\n",
       "      <td>131.0</td>\n",
       "      <td>33124</td>\n",
       "      <td>12651</td>\n",
       "      <td>12482</td>\n",
       "      <td>well0078_day00_well.png</td>\n",
       "      <td>0078</td>\n",
       "    </tr>\n",
       "    <tr>\n",
       "      <th>14478</th>\n",
       "      <td>78</td>\n",
       "      <td>3</td>\n",
       "      <td>136.0</td>\n",
       "      <td>33124</td>\n",
       "      <td>13170</td>\n",
       "      <td>13074</td>\n",
       "      <td>well0078_day03_well.png</td>\n",
       "      <td>0078</td>\n",
       "    </tr>\n",
       "    <tr>\n",
       "      <th>28878</th>\n",
       "      <td>78</td>\n",
       "      <td>6</td>\n",
       "      <td>128.0</td>\n",
       "      <td>33124</td>\n",
       "      <td>14577</td>\n",
       "      <td>14410</td>\n",
       "      <td>well0078_day06_well.png</td>\n",
       "      <td>0078</td>\n",
       "    </tr>\n",
       "    <tr>\n",
       "      <th>33678</th>\n",
       "      <td>78</td>\n",
       "      <td>7</td>\n",
       "      <td>135.0</td>\n",
       "      <td>33124</td>\n",
       "      <td>13876</td>\n",
       "      <td>13314</td>\n",
       "      <td>well0078_day07_well.png</td>\n",
       "      <td>0078</td>\n",
       "    </tr>\n",
       "    <tr>\n",
       "      <th>38478</th>\n",
       "      <td>78</td>\n",
       "      <td>8</td>\n",
       "      <td>132.0</td>\n",
       "      <td>33124</td>\n",
       "      <td>13188</td>\n",
       "      <td>13027</td>\n",
       "      <td>well0078_day08_well.png</td>\n",
       "      <td>0078</td>\n",
       "    </tr>\n",
       "    <tr>\n",
       "      <th>...</th>\n",
       "      <td>...</td>\n",
       "      <td>...</td>\n",
       "      <td>...</td>\n",
       "      <td>...</td>\n",
       "      <td>...</td>\n",
       "      <td>...</td>\n",
       "      <td>...</td>\n",
       "      <td>...</td>\n",
       "    </tr>\n",
       "    <tr>\n",
       "      <th>4755</th>\n",
       "      <td>4755</td>\n",
       "      <td>0</td>\n",
       "      <td>126.0</td>\n",
       "      <td>33124</td>\n",
       "      <td>0</td>\n",
       "      <td>0</td>\n",
       "      <td>well4755_day00_well.png</td>\n",
       "      <td>4755</td>\n",
       "    </tr>\n",
       "    <tr>\n",
       "      <th>4756</th>\n",
       "      <td>4756</td>\n",
       "      <td>0</td>\n",
       "      <td>126.0</td>\n",
       "      <td>33124</td>\n",
       "      <td>0</td>\n",
       "      <td>0</td>\n",
       "      <td>well4756_day00_well.png</td>\n",
       "      <td>4756</td>\n",
       "    </tr>\n",
       "    <tr>\n",
       "      <th>4757</th>\n",
       "      <td>4757</td>\n",
       "      <td>0</td>\n",
       "      <td>125.0</td>\n",
       "      <td>33124</td>\n",
       "      <td>0</td>\n",
       "      <td>0</td>\n",
       "      <td>well4757_day00_well.png</td>\n",
       "      <td>4757</td>\n",
       "    </tr>\n",
       "    <tr>\n",
       "      <th>4758</th>\n",
       "      <td>4758</td>\n",
       "      <td>0</td>\n",
       "      <td>125.0</td>\n",
       "      <td>33124</td>\n",
       "      <td>0</td>\n",
       "      <td>0</td>\n",
       "      <td>well4758_day00_well.png</td>\n",
       "      <td>4758</td>\n",
       "    </tr>\n",
       "    <tr>\n",
       "      <th>4759</th>\n",
       "      <td>4759</td>\n",
       "      <td>0</td>\n",
       "      <td>125.0</td>\n",
       "      <td>33124</td>\n",
       "      <td>0</td>\n",
       "      <td>0</td>\n",
       "      <td>well4759_day00_well.png</td>\n",
       "      <td>4759</td>\n",
       "    </tr>\n",
       "    <tr>\n",
       "      <th>43159</th>\n",
       "      <td>4759</td>\n",
       "      <td>8</td>\n",
       "      <td>122.0</td>\n",
       "      <td>33124</td>\n",
       "      <td>11178</td>\n",
       "      <td>9079</td>\n",
       "      <td>well4759_day08_well.png</td>\n",
       "      <td>4759</td>\n",
       "    </tr>\n",
       "    <tr>\n",
       "      <th>47964</th>\n",
       "      <td>4764</td>\n",
       "      <td>9</td>\n",
       "      <td>116.0</td>\n",
       "      <td>33124</td>\n",
       "      <td>13040</td>\n",
       "      <td>12807</td>\n",
       "      <td>well4764_day09_well.png</td>\n",
       "      <td>4764</td>\n",
       "    </tr>\n",
       "    <tr>\n",
       "      <th>4771</th>\n",
       "      <td>4771</td>\n",
       "      <td>0</td>\n",
       "      <td>128.0</td>\n",
       "      <td>32396</td>\n",
       "      <td>3184</td>\n",
       "      <td>2573</td>\n",
       "      <td>well4771_day00_well.png</td>\n",
       "      <td>4771</td>\n",
       "    </tr>\n",
       "    <tr>\n",
       "      <th>43171</th>\n",
       "      <td>4771</td>\n",
       "      <td>8</td>\n",
       "      <td>121.0</td>\n",
       "      <td>33124</td>\n",
       "      <td>10823</td>\n",
       "      <td>9982</td>\n",
       "      <td>well4771_day08_well.png</td>\n",
       "      <td>4771</td>\n",
       "    </tr>\n",
       "    <tr>\n",
       "      <th>4773</th>\n",
       "      <td>4773</td>\n",
       "      <td>0</td>\n",
       "      <td>107.0</td>\n",
       "      <td>37249</td>\n",
       "      <td>3347450</td>\n",
       "      <td>3347450</td>\n",
       "      <td>well4773_day00_well.png</td>\n",
       "      <td>4773</td>\n",
       "    </tr>\n",
       "    <tr>\n",
       "      <th>14374</th>\n",
       "      <td>4774</td>\n",
       "      <td>2</td>\n",
       "      <td>115.0</td>\n",
       "      <td>33124</td>\n",
       "      <td>13631</td>\n",
       "      <td>13426</td>\n",
       "      <td>well4774_day02_well.png</td>\n",
       "      <td>4774</td>\n",
       "    </tr>\n",
       "    <tr>\n",
       "      <th>4775</th>\n",
       "      <td>4775</td>\n",
       "      <td>0</td>\n",
       "      <td>126.0</td>\n",
       "      <td>33124</td>\n",
       "      <td>0</td>\n",
       "      <td>0</td>\n",
       "      <td>well4775_day00_well.png</td>\n",
       "      <td>4775</td>\n",
       "    </tr>\n",
       "    <tr>\n",
       "      <th>43175</th>\n",
       "      <td>4775</td>\n",
       "      <td>8</td>\n",
       "      <td>121.0</td>\n",
       "      <td>33124</td>\n",
       "      <td>11868</td>\n",
       "      <td>10662</td>\n",
       "      <td>well4775_day08_well.png</td>\n",
       "      <td>4775</td>\n",
       "    </tr>\n",
       "    <tr>\n",
       "      <th>4776</th>\n",
       "      <td>4776</td>\n",
       "      <td>0</td>\n",
       "      <td>125.0</td>\n",
       "      <td>33124</td>\n",
       "      <td>0</td>\n",
       "      <td>0</td>\n",
       "      <td>well4776_day00_well.png</td>\n",
       "      <td>4776</td>\n",
       "    </tr>\n",
       "    <tr>\n",
       "      <th>43176</th>\n",
       "      <td>4776</td>\n",
       "      <td>8</td>\n",
       "      <td>122.0</td>\n",
       "      <td>33124</td>\n",
       "      <td>11122</td>\n",
       "      <td>9374</td>\n",
       "      <td>well4776_day08_well.png</td>\n",
       "      <td>4776</td>\n",
       "    </tr>\n",
       "    <tr>\n",
       "      <th>4777</th>\n",
       "      <td>4777</td>\n",
       "      <td>0</td>\n",
       "      <td>125.0</td>\n",
       "      <td>33124</td>\n",
       "      <td>0</td>\n",
       "      <td>0</td>\n",
       "      <td>well4777_day00_well.png</td>\n",
       "      <td>4777</td>\n",
       "    </tr>\n",
       "    <tr>\n",
       "      <th>4778</th>\n",
       "      <td>4778</td>\n",
       "      <td>0</td>\n",
       "      <td>124.0</td>\n",
       "      <td>33124</td>\n",
       "      <td>0</td>\n",
       "      <td>0</td>\n",
       "      <td>well4778_day00_well.png</td>\n",
       "      <td>4778</td>\n",
       "    </tr>\n",
       "    <tr>\n",
       "      <th>4779</th>\n",
       "      <td>4779</td>\n",
       "      <td>0</td>\n",
       "      <td>123.0</td>\n",
       "      <td>33124</td>\n",
       "      <td>0</td>\n",
       "      <td>0</td>\n",
       "      <td>well4779_day00_well.png</td>\n",
       "      <td>4779</td>\n",
       "    </tr>\n",
       "    <tr>\n",
       "      <th>19179</th>\n",
       "      <td>4779</td>\n",
       "      <td>3</td>\n",
       "      <td>120.0</td>\n",
       "      <td>33124</td>\n",
       "      <td>11465</td>\n",
       "      <td>10040</td>\n",
       "      <td>well4779_day03_well.png</td>\n",
       "      <td>4779</td>\n",
       "    </tr>\n",
       "    <tr>\n",
       "      <th>43184</th>\n",
       "      <td>4784</td>\n",
       "      <td>8</td>\n",
       "      <td>120.0</td>\n",
       "      <td>33124</td>\n",
       "      <td>10537</td>\n",
       "      <td>10132</td>\n",
       "      <td>well4784_day08_well.png</td>\n",
       "      <td>4784</td>\n",
       "    </tr>\n",
       "    <tr>\n",
       "      <th>43185</th>\n",
       "      <td>4785</td>\n",
       "      <td>8</td>\n",
       "      <td>121.0</td>\n",
       "      <td>33124</td>\n",
       "      <td>10859</td>\n",
       "      <td>10149</td>\n",
       "      <td>well4785_day08_well.png</td>\n",
       "      <td>4785</td>\n",
       "    </tr>\n",
       "    <tr>\n",
       "      <th>4791</th>\n",
       "      <td>4791</td>\n",
       "      <td>0</td>\n",
       "      <td>128.0</td>\n",
       "      <td>33124</td>\n",
       "      <td>6640</td>\n",
       "      <td>6498</td>\n",
       "      <td>well4791_day00_well.png</td>\n",
       "      <td>4791</td>\n",
       "    </tr>\n",
       "    <tr>\n",
       "      <th>4792</th>\n",
       "      <td>4792</td>\n",
       "      <td>0</td>\n",
       "      <td>126.0</td>\n",
       "      <td>33124</td>\n",
       "      <td>11483</td>\n",
       "      <td>11225</td>\n",
       "      <td>well4792_day00_well.png</td>\n",
       "      <td>4792</td>\n",
       "    </tr>\n",
       "    <tr>\n",
       "      <th>4793</th>\n",
       "      <td>4793</td>\n",
       "      <td>0</td>\n",
       "      <td>57.0</td>\n",
       "      <td>37249</td>\n",
       "      <td>2672539</td>\n",
       "      <td>2672539</td>\n",
       "      <td>well4793_day00_well.png</td>\n",
       "      <td>4793</td>\n",
       "    </tr>\n",
       "    <tr>\n",
       "      <th>4795</th>\n",
       "      <td>4795</td>\n",
       "      <td>0</td>\n",
       "      <td>126.0</td>\n",
       "      <td>33124</td>\n",
       "      <td>0</td>\n",
       "      <td>0</td>\n",
       "      <td>well4795_day00_well.png</td>\n",
       "      <td>4795</td>\n",
       "    </tr>\n",
       "    <tr>\n",
       "      <th>4796</th>\n",
       "      <td>4796</td>\n",
       "      <td>0</td>\n",
       "      <td>126.0</td>\n",
       "      <td>33124</td>\n",
       "      <td>0</td>\n",
       "      <td>0</td>\n",
       "      <td>well4796_day00_well.png</td>\n",
       "      <td>4796</td>\n",
       "    </tr>\n",
       "    <tr>\n",
       "      <th>4797</th>\n",
       "      <td>4797</td>\n",
       "      <td>0</td>\n",
       "      <td>124.0</td>\n",
       "      <td>33124</td>\n",
       "      <td>0</td>\n",
       "      <td>0</td>\n",
       "      <td>well4797_day00_well.png</td>\n",
       "      <td>4797</td>\n",
       "    </tr>\n",
       "    <tr>\n",
       "      <th>4798</th>\n",
       "      <td>4798</td>\n",
       "      <td>0</td>\n",
       "      <td>124.0</td>\n",
       "      <td>33124</td>\n",
       "      <td>0</td>\n",
       "      <td>0</td>\n",
       "      <td>well4798_day00_well.png</td>\n",
       "      <td>4798</td>\n",
       "    </tr>\n",
       "    <tr>\n",
       "      <th>43198</th>\n",
       "      <td>4798</td>\n",
       "      <td>8</td>\n",
       "      <td>123.0</td>\n",
       "      <td>33124</td>\n",
       "      <td>9430</td>\n",
       "      <td>7825</td>\n",
       "      <td>well4798_day08_well.png</td>\n",
       "      <td>4798</td>\n",
       "    </tr>\n",
       "    <tr>\n",
       "      <th>4799</th>\n",
       "      <td>4799</td>\n",
       "      <td>0</td>\n",
       "      <td>124.0</td>\n",
       "      <td>33124</td>\n",
       "      <td>0</td>\n",
       "      <td>0</td>\n",
       "      <td>well4799_day00_well.png</td>\n",
       "      <td>4799</td>\n",
       "    </tr>\n",
       "  </tbody>\n",
       "</table>\n",
       "<p>2425 rows × 8 columns</p>\n",
       "</div>"
      ],
      "text/plain": [
       "       well_id  day  median_pixel_intensity  mw_area_shape  hyst1_area  \\\n",
       "43203        3    9                   133.0          33124       14317   \n",
       "33605        5    7                   144.0          33124       14895   \n",
       "48005        5   10                   132.0          33124       12929   \n",
       "57605        5   12                   135.0          33124       13279   \n",
       "19207        7    4                   132.0          33124       14855   \n",
       "43223       23    9                   133.0          33124       17816   \n",
       "33625       25    7                   144.0          33124       20824   \n",
       "43225       25    9                   127.0          33124       23727   \n",
       "52825       25   11                   128.0          33124       29729   \n",
       "14430       30    3                   143.0          33124       13660   \n",
       "19231       31    4                   130.0          32578       19228   \n",
       "43231       31    9                   124.0          33124       18932   \n",
       "38442       42    8                   135.0          33124       16166   \n",
       "43242       42    9                   135.0          33124       17738   \n",
       "57642       42   12                   138.0          33124       17080   \n",
       "62442       42   13                   145.0          33124       16798   \n",
       "28844       44    6                   139.0          33124       16545   \n",
       "33644       44    7                   146.0          33124       17761   \n",
       "38444       44    8                   137.0          33124       14639   \n",
       "43244       44    9                   134.0          33124       18120   \n",
       "24051       51    5                   131.0          33124       11556   \n",
       "48051       51   10                   128.0          33124       11986   \n",
       "48066       66   10                   137.0          33124       12705   \n",
       "75          75    0                   132.0          33124       13345   \n",
       "52875       75   11                   132.0          33124       18658   \n",
       "78          78    0                   131.0          33124       12651   \n",
       "14478       78    3                   136.0          33124       13170   \n",
       "28878       78    6                   128.0          33124       14577   \n",
       "33678       78    7                   135.0          33124       13876   \n",
       "38478       78    8                   132.0          33124       13188   \n",
       "...        ...  ...                     ...            ...         ...   \n",
       "4755      4755    0                   126.0          33124           0   \n",
       "4756      4756    0                   126.0          33124           0   \n",
       "4757      4757    0                   125.0          33124           0   \n",
       "4758      4758    0                   125.0          33124           0   \n",
       "4759      4759    0                   125.0          33124           0   \n",
       "43159     4759    8                   122.0          33124       11178   \n",
       "47964     4764    9                   116.0          33124       13040   \n",
       "4771      4771    0                   128.0          32396        3184   \n",
       "43171     4771    8                   121.0          33124       10823   \n",
       "4773      4773    0                   107.0          37249     3347450   \n",
       "14374     4774    2                   115.0          33124       13631   \n",
       "4775      4775    0                   126.0          33124           0   \n",
       "43175     4775    8                   121.0          33124       11868   \n",
       "4776      4776    0                   125.0          33124           0   \n",
       "43176     4776    8                   122.0          33124       11122   \n",
       "4777      4777    0                   125.0          33124           0   \n",
       "4778      4778    0                   124.0          33124           0   \n",
       "4779      4779    0                   123.0          33124           0   \n",
       "19179     4779    3                   120.0          33124       11465   \n",
       "43184     4784    8                   120.0          33124       10537   \n",
       "43185     4785    8                   121.0          33124       10859   \n",
       "4791      4791    0                   128.0          33124        6640   \n",
       "4792      4792    0                   126.0          33124       11483   \n",
       "4793      4793    0                    57.0          37249     2672539   \n",
       "4795      4795    0                   126.0          33124           0   \n",
       "4796      4796    0                   126.0          33124           0   \n",
       "4797      4797    0                   124.0          33124           0   \n",
       "4798      4798    0                   124.0          33124           0   \n",
       "43198     4798    8                   123.0          33124        9430   \n",
       "4799      4799    0                   124.0          33124           0   \n",
       "\n",
       "       hyst2_area               image_name well_label  \n",
       "43203       13965  well0003_day09_well.png       0003  \n",
       "33605       14654  well0005_day07_well.png       0005  \n",
       "48005       12666  well0005_day10_well.png       0005  \n",
       "57605       12997  well0005_day12_well.png       0005  \n",
       "19207       14586  well0007_day04_well.png       0007  \n",
       "43223       17288  well0023_day09_well.png       0023  \n",
       "33625       19976  well0025_day07_well.png       0025  \n",
       "43225       23129  well0025_day09_well.png       0025  \n",
       "52825       29134  well0025_day11_well.png       0025  \n",
       "14430       13486  well0030_day03_well.png       0030  \n",
       "19231       19074  well0031_day04_well.png       0031  \n",
       "43231       18623  well0031_day09_well.png       0031  \n",
       "38442       15547  well0042_day08_well.png       0042  \n",
       "43242       16970  well0042_day09_well.png       0042  \n",
       "57642       16690  well0042_day12_well.png       0042  \n",
       "62442       16545  well0042_day13_well.png       0042  \n",
       "28844       16452  well0044_day06_well.png       0044  \n",
       "33644       17531  well0044_day07_well.png       0044  \n",
       "38444       14190  well0044_day08_well.png       0044  \n",
       "43244       17795  well0044_day09_well.png       0044  \n",
       "24051       11405  well0051_day05_well.png       0051  \n",
       "48051       11854  well0051_day10_well.png       0051  \n",
       "48066       12459  well0066_day10_well.png       0066  \n",
       "75          12605  well0075_day00_well.png       0075  \n",
       "52875       18355  well0075_day11_well.png       0075  \n",
       "78          12482  well0078_day00_well.png       0078  \n",
       "14478       13074  well0078_day03_well.png       0078  \n",
       "28878       14410  well0078_day06_well.png       0078  \n",
       "33678       13314  well0078_day07_well.png       0078  \n",
       "38478       13027  well0078_day08_well.png       0078  \n",
       "...           ...                      ...        ...  \n",
       "4755            0  well4755_day00_well.png       4755  \n",
       "4756            0  well4756_day00_well.png       4756  \n",
       "4757            0  well4757_day00_well.png       4757  \n",
       "4758            0  well4758_day00_well.png       4758  \n",
       "4759            0  well4759_day00_well.png       4759  \n",
       "43159        9079  well4759_day08_well.png       4759  \n",
       "47964       12807  well4764_day09_well.png       4764  \n",
       "4771         2573  well4771_day00_well.png       4771  \n",
       "43171        9982  well4771_day08_well.png       4771  \n",
       "4773      3347450  well4773_day00_well.png       4773  \n",
       "14374       13426  well4774_day02_well.png       4774  \n",
       "4775            0  well4775_day00_well.png       4775  \n",
       "43175       10662  well4775_day08_well.png       4775  \n",
       "4776            0  well4776_day00_well.png       4776  \n",
       "43176        9374  well4776_day08_well.png       4776  \n",
       "4777            0  well4777_day00_well.png       4777  \n",
       "4778            0  well4778_day00_well.png       4778  \n",
       "4779            0  well4779_day00_well.png       4779  \n",
       "19179       10040  well4779_day03_well.png       4779  \n",
       "43184       10132  well4784_day08_well.png       4784  \n",
       "43185       10149  well4785_day08_well.png       4785  \n",
       "4791         6498  well4791_day00_well.png       4791  \n",
       "4792        11225  well4792_day00_well.png       4792  \n",
       "4793      2672539  well4793_day00_well.png       4793  \n",
       "4795            0  well4795_day00_well.png       4795  \n",
       "4796            0  well4796_day00_well.png       4796  \n",
       "4797            0  well4797_day00_well.png       4797  \n",
       "4798            0  well4798_day00_well.png       4798  \n",
       "43198        7825  well4798_day08_well.png       4798  \n",
       "4799            0  well4799_day00_well.png       4799  \n",
       "\n",
       "[2425 rows x 8 columns]"
      ]
     },
     "execution_count": 18,
     "metadata": {},
     "output_type": "execute_result"
    }
   ],
   "source": [
    "label.query(\"mw_area_shape > 32000\").sort_values(by=['well_id','day'])"
   ]
  },
  {
   "cell_type": "code",
   "execution_count": null,
   "metadata": {},
   "outputs": [],
   "source": []
  },
  {
   "cell_type": "code",
   "execution_count": 19,
   "metadata": {},
   "outputs": [],
   "source": [
    "excluded_well_id = set(label.query(\"mw_area_shape >= 32000\")['well_id'].tolist())"
   ]
  },
  {
   "cell_type": "code",
   "execution_count": 20,
   "metadata": {},
   "outputs": [
    {
     "data": {
      "text/plain": [
       "1510"
      ]
     },
     "execution_count": 20,
     "metadata": {},
     "output_type": "execute_result"
    }
   ],
   "source": [
    "len(excluded_well_id)"
   ]
  },
  {
   "cell_type": "code",
   "execution_count": 21,
   "metadata": {},
   "outputs": [
    {
     "data": {
      "text/plain": [
       "(67200, 8)"
      ]
     },
     "execution_count": 21,
     "metadata": {},
     "output_type": "execute_result"
    }
   ],
   "source": [
    "label.isin(excluded_well_id).shape"
   ]
  },
  {
   "cell_type": "code",
   "execution_count": 22,
   "metadata": {},
   "outputs": [],
   "source": [
    "corrected_labels = label.query(\"mw_area_shape < 32000\")"
   ]
  },
  {
   "cell_type": "code",
   "execution_count": null,
   "metadata": {},
   "outputs": [],
   "source": [
    "# def normalize_label()"
   ]
  },
  {
   "cell_type": "code",
   "execution_count": 24,
   "metadata": {},
   "outputs": [
    {
     "data": {
      "text/plain": [
       "1072.6403020126638"
      ]
     },
     "execution_count": 24,
     "metadata": {},
     "output_type": "execute_result"
    }
   ],
   "source": [
    "hyst1_areacorrected_labels['hyst1_area'].std()"
   ]
  },
  {
   "cell_type": "code",
   "execution_count": 23,
   "metadata": {},
   "outputs": [
    {
     "name": "stderr",
     "output_type": "stream",
     "text": [
      "/opt/anaconda3/lib/python3.7/site-packages/ipykernel_launcher.py:1: SettingWithCopyWarning: \n",
      "A value is trying to be set on a copy of a slice from a DataFrame.\n",
      "Try using .loc[row_indexer,col_indexer] = value instead\n",
      "\n",
      "See the caveats in the documentation: http://pandas.pydata.org/pandas-docs/stable/indexing.html#indexing-view-versus-copy\n",
      "  \"\"\"Entry point for launching an IPython kernel.\n",
      "/opt/anaconda3/lib/python3.7/site-packages/ipykernel_launcher.py:2: SettingWithCopyWarning: \n",
      "A value is trying to be set on a copy of a slice from a DataFrame.\n",
      "Try using .loc[row_indexer,col_indexer] = value instead\n",
      "\n",
      "See the caveats in the documentation: http://pandas.pydata.org/pandas-docs/stable/indexing.html#indexing-view-versus-copy\n",
      "  \n"
     ]
    }
   ],
   "source": [
    "corrected_labels['hyst1_area'] = corrected_labels['hyst1_area']/(corrected_labels['hyst1_area'].std())\n",
    "corrected_labels['hyst2_area'] = corrected_labels['hyst2_area']/(corrected_labels['hyst2_area'].std())"
   ]
  },
  {
   "cell_type": "code",
   "execution_count": 24,
   "metadata": {},
   "outputs": [],
   "source": [
    "corrected_labels.to_csv('filtered_well_descriptions.txt')"
   ]
  },
  {
   "cell_type": "code",
   "execution_count": 25,
   "metadata": {},
   "outputs": [],
   "source": [
    "day1wells = corrected_labels.query(\"day == 1\")\n",
    "day13wells = corrected_labels.query(\"day == 13\")"
   ]
  },
  {
   "cell_type": "code",
   "execution_count": 26,
   "metadata": {},
   "outputs": [
    {
     "data": {
      "text/plain": [
       "((4721, 8), (4712, 8))"
      ]
     },
     "execution_count": 26,
     "metadata": {},
     "output_type": "execute_result"
    }
   ],
   "source": [
    "day1wells.shape, day13wells.shape"
   ]
  },
  {
   "cell_type": "code",
   "execution_count": 27,
   "metadata": {},
   "outputs": [],
   "source": [
    "merged_days = day1wells.merge(day13wells, on=['well_label'],suffixes=['_1','_13'])"
   ]
  },
  {
   "cell_type": "code",
   "execution_count": 28,
   "metadata": {},
   "outputs": [
    {
     "data": {
      "text/plain": [
       "(4642, 15)"
      ]
     },
     "execution_count": 28,
     "metadata": {},
     "output_type": "execute_result"
    }
   ],
   "source": [
    "merged_days.shape"
   ]
  },
  {
   "cell_type": "code",
   "execution_count": 29,
   "metadata": {},
   "outputs": [],
   "source": [
    "well_labels = merged_days['well_label']\n",
    "finalSizes = merged_days['hyst2_area_13']"
   ]
  },
  {
   "cell_type": "code",
   "execution_count": 30,
   "metadata": {},
   "outputs": [],
   "source": [
    "# for i in range(4800):\n",
    "#     well_labels.append(str(i).zfill(4))"
   ]
  },
  {
   "cell_type": "code",
   "execution_count": 46,
   "metadata": {},
   "outputs": [],
   "source": [
    "NUM_TRAIN = 4000\n",
    "TOTAL = merged_days.shape[0]\n",
    "NUM_VAL = TOTAL-NUM_TRAIN"
   ]
  },
  {
   "cell_type": "code",
   "execution_count": 47,
   "metadata": {},
   "outputs": [],
   "source": [
    "training_set = merged_days[:NUM_TRAIN]\n",
    "val_set = merged_days[NUM_TRAIN:]"
   ]
  },
  {
   "cell_type": "code",
   "execution_count": 48,
   "metadata": {},
   "outputs": [],
   "source": [
    "train_well_labels = training_set['well_label']\n",
    "train_size = training_set['hyst2_area_13']\n",
    "\n",
    "val_well_labels = val_set['well_label']\n",
    "val_size =val_set['hyst2_area_13']"
   ]
  },
  {
   "cell_type": "code",
   "execution_count": 49,
   "metadata": {},
   "outputs": [],
   "source": [
    "path = '../data/CS231n_Tim_Shan_example_data/'\n",
    "initial_train_set = OrganoidDataset(path2files = path, well_labels = train_well_labels, day_label_X = ['01']*NUM_TRAIN, Y = train_size)\n",
    "# training_generator = data.DataLoader(initial_train_set,  batch_size=64, \n",
    "#                           sampler=sampler.SubsetRandomSampler(range(NUM_TRAIN)))"
   ]
  },
  {
   "cell_type": "code",
   "execution_count": 109,
   "metadata": {},
   "outputs": [],
   "source": [
    "\n",
    "training_generator = data.DataLoader(initial_train_set, batch_size=64, \n",
    "                          sampler=sampler.SubsetRandomSampler(range(NUM_TRAIN)))"
   ]
  },
  {
   "cell_type": "code",
   "execution_count": 110,
   "metadata": {},
   "outputs": [],
   "source": [
    "validation_set =OrganoidDataset(path2files = path, well_labels = val_well_labels, day_label_X = ['01']*NUM_VAL, Y = val_size)\n",
    "validation_generator = data.DataLoader(initial_train_set, batch_size=64, \n",
    "                          sampler=sampler.SubsetRandomSampler(range(NUM_TRAIN)))"
   ]
  },
  {
   "cell_type": "code",
   "execution_count": 112,
   "metadata": {},
   "outputs": [],
   "source": [
    "initial_train_set = OrganoidDataset(path2files = path, well_labels = well_labels, day_label_X = ['01']*TOTAL, Y = finalSizes)\n",
    "training_generator = data.DataLoader(initial_train_set, **params)"
   ]
  },
  {
   "cell_type": "code",
   "execution_count": 82,
   "metadata": {},
   "outputs": [],
   "source": [
    "\n",
    "# NUM_TRAIN = 49000\n",
    "# loader_train = DataLoader(training_generator, batch_size=64, \n",
    "#                           sampler=sampler.SubsetRandomSampler(range(NUM_TRAIN)))"
   ]
  },
  {
   "cell_type": "markdown",
   "metadata": {},
   "source": [
    "# MODEL"
   ]
  },
  {
   "cell_type": "code",
   "execution_count": 40,
   "metadata": {},
   "outputs": [
    {
     "name": "stdout",
     "output_type": "stream",
     "text": [
      "using device: cuda\n"
     ]
    }
   ],
   "source": [
    "USE_GPU = True\n",
    "\n",
    "dtype = torch.float32 # we will be using float throughout this tutorial\n",
    "\n",
    "if USE_GPU and torch.cuda.is_available():\n",
    "    device = torch.device('cuda')\n",
    "else:\n",
    "    device = torch.device('cpu')\n",
    "\n",
    "# Constant to control how frequently we print train loss\n",
    "print_every = 100\n",
    "\n",
    "print('using device:', device)"
   ]
  },
  {
   "cell_type": "code",
   "execution_count": 41,
   "metadata": {},
   "outputs": [
    {
     "name": "stdout",
     "output_type": "stream",
     "text": [
      "Before flattening:  tensor([[[[ 0,  1],\n",
      "          [ 2,  3],\n",
      "          [ 4,  5]]],\n",
      "\n",
      "\n",
      "        [[[ 6,  7],\n",
      "          [ 8,  9],\n",
      "          [10, 11]]]])\n",
      "After flattening:  tensor([[ 0,  1,  2,  3,  4,  5],\n",
      "        [ 6,  7,  8,  9, 10, 11]])\n"
     ]
    }
   ],
   "source": [
    "def flatten(x):\n",
    "    N = x.shape[0] # read in N, C, H, W\n",
    "    return x.view(N, -1)  # \"flatten\" the C * H * W values into a single vector per image\n",
    "\n",
    "def test_flatten():\n",
    "    x = torch.arange(12).view(2, 1, 3, 2)\n",
    "    print('Before flattening: ', x)\n",
    "    print('After flattening: ', flatten(x))\n",
    "\n",
    "test_flatten()\n",
    "class Flatten(nn.Module):\n",
    "    def forward(self, x):\n",
    "        return flatten(x)"
   ]
  },
  {
   "cell_type": "code",
   "execution_count": 66,
   "metadata": {},
   "outputs": [],
   "source": [
    "\n",
    "def check_accuracy_part34(loader, model):\n",
    "#     if loader.dataset.train:\n",
    "#         print('Checking accuracy on validation set')\n",
    "#     else:\n",
    "#         print('Checking accuracy on test set')   \n",
    "    all_accuracy=[]\n",
    "    error = 0\n",
    "    num_samples = 0\n",
    "    model.eval()  # set model to evaluation mode\n",
    "    with torch.no_grad():\n",
    "        for x, y in loader:\n",
    "            x = x.to(device=device, dtype=dtype)  # move to device, e.g. GPU\n",
    "            y = y.to(device=device, dtype=dtype)\n",
    "            preds = model(x)\n",
    "            #_, preds = scores.max(1)\n",
    "            #num_correct += (preds == y).sum()\n",
    "            num_samples += preds.size(0)\n",
    "            #print(\"pred \",preds.size(0))\n",
    "            #print(\"y size\",y.size(0))\n",
    "            error += (((y-preds)**2).sum())/num_samples\n",
    "        error = float(error)\n",
    "        print('num samles',num_samples)\n",
    "        print(error)\n",
    "        acc = error / num_samples\n",
    "        all_accuracy.append(acc)\n",
    "        print('Got accuracy (%.2f)' % (100 * acc))\n",
    "    return all_accuracy"
   ]
  },
  {
   "cell_type": "code",
   "execution_count": 67,
   "metadata": {},
   "outputs": [],
   "source": [
    "def train_part34(model, optimizer, epochs=1):\n",
    "    train_errors = []\n",
    "    losses = {}\n",
    "    epoch_error ={}\n",
    "    for e in range(epochs):\n",
    "        print(e)\n",
    "        totalbatchMSE = 0.0\n",
    "        for t, (x, y) in enumerate(training_generator):\n",
    "            #print('epoch: ',e)\n",
    "            model.train() \n",
    "            x = x.to(device=device)  # move to device, e.g. GPU\n",
    "            y = y.to(device=device)\n",
    "            \n",
    "            Y_hat = model(x)\n",
    "            #loss = nn.MSELoss(Y_hat,y)\n",
    "            loss = F.mse_loss(Y_hat, y)\n",
    "            \n",
    "            optimizer.zero_grad()\n",
    "            \n",
    "            loss.backward()\n",
    "            \n",
    "            optimizer.step()\n",
    "            \n",
    "            train_error = loss.item()\n",
    "            \n",
    "            totalbatchMSE = totalbatchMSE + params['batch_size']*train_error/TOTAL\n",
    "            \n",
    "            #losses.append(train_error)\n",
    "            losses[e] =train_error\n",
    "            epoch_error[e] = totalbatchMSE\n",
    "            \n",
    "            if t % print_every == 0:\n",
    "                print('Iteration %d, loss = %.4f' % (t, train_error))\n",
    "                print(\"total_batch_mse\",totalbatchMSE)\n",
    "                train_errors.append(totalbatchMSE)\n",
    "                accuracy = check_accuracy_part34(val_generator, model)\n",
    "    return train_errors,losses,epoch_error,accuracy\n",
    "    "
   ]
  },
  {
   "cell_type": "code",
   "execution_count": 47,
   "metadata": {},
   "outputs": [],
   "source": [
    "\n",
    "out_size = 1\n",
    "in_channels = 1 \n",
    "channel_1 = 32\n",
    "channel_2 = 16\n",
    "channel_3 = 8\n",
    "out_size = 1\n",
    "image_size = 193\n",
    "model = nn.Sequential(\n",
    "    nn.Conv2d(in_channels=in_channels,out_channels=channel_1,kernel_size=5,padding=2,bias=True),\n",
    "    nn.ReLU(),\n",
    "    nn.Conv2d(in_channels=channel_1,out_channels=channel_2,kernel_size=3,padding=1,bias=True),\n",
    "    nn.ReLU(),   \n",
    "    Flatten(),\n",
    "    nn.Linear(channel_2*image_size*image_size, 1,bias=True),\n",
    ")"
   ]
  },
  {
   "cell_type": "code",
   "execution_count": 48,
   "metadata": {},
   "outputs": [
    {
     "data": {
      "text/plain": [
       "Sequential(\n",
       "  (0): Conv2d(1, 32, kernel_size=(5, 5), stride=(1, 1), padding=(2, 2))\n",
       "  (1): ReLU()\n",
       "  (2): Conv2d(32, 16, kernel_size=(3, 3), stride=(1, 1), padding=(1, 1))\n",
       "  (3): ReLU()\n",
       "  (4): Flatten()\n",
       "  (5): Linear(in_features=595984, out_features=1, bias=True)\n",
       ")"
      ]
     },
     "execution_count": 48,
     "metadata": {},
     "output_type": "execute_result"
    }
   ],
   "source": [
    "model.cuda()"
   ]
  },
  {
   "cell_type": "code",
   "execution_count": 59,
   "metadata": {},
   "outputs": [
    {
     "data": {
      "text/plain": [
       "0.001"
      ]
     },
     "execution_count": 59,
     "metadata": {},
     "output_type": "execute_result"
    }
   ],
   "source": [
    "1e-3"
   ]
  },
  {
   "cell_type": "code",
   "execution_count": 70,
   "metadata": {},
   "outputs": [
    {
     "name": "stdout",
     "output_type": "stream",
     "text": [
      "0\n",
      "Iteration 0, loss = 3.4184\n",
      "total_batch_mse 0.07364059614241508\n"
     ]
    },
    {
     "name": "stderr",
     "output_type": "stream",
     "text": [
      "/opt/anaconda3/lib/python3.7/site-packages/ipykernel_launcher.py:16: UserWarning: Using a target size (torch.Size([100])) that is different to the input size (torch.Size([100, 1])). This will likely lead to incorrect results due to broadcasting. Please ensure they have the same size.\n",
      "  app.launch_new_instance()\n"
     ]
    },
    {
     "name": "stdout",
     "output_type": "stream",
     "text": [
      "num samles 500\n",
      "346.79022216796875\n",
      "Got accuracy (69.36)\n",
      "1\n"
     ]
    },
    {
     "name": "stderr",
     "output_type": "stream",
     "text": [
      "/opt/anaconda3/lib/python3.7/site-packages/ipykernel_launcher.py:16: UserWarning: Using a target size (torch.Size([42])) that is different to the input size (torch.Size([42, 1])). This will likely lead to incorrect results due to broadcasting. Please ensure they have the same size.\n",
      "  app.launch_new_instance()\n"
     ]
    },
    {
     "name": "stdout",
     "output_type": "stream",
     "text": [
      "Iteration 0, loss = 3.1960\n",
      "total_batch_mse 0.06884958455399263\n",
      "num samles 500\n",
      "464.2464904785156\n",
      "Got accuracy (92.85)\n",
      "2\n",
      "Iteration 0, loss = 0.4677\n",
      "total_batch_mse 0.010074724518292322\n",
      "num samles 500\n",
      "292.03021240234375\n",
      "Got accuracy (58.41)\n",
      "3\n",
      "Iteration 0, loss = 1.6284\n",
      "total_batch_mse 0.035079274902771074\n",
      "num samles 500\n",
      "413.3943786621094\n",
      "Got accuracy (82.68)\n",
      "4\n",
      "Iteration 0, loss = 1.0099\n",
      "total_batch_mse 0.021755887947427666\n",
      "num samles 500\n",
      "316.15350341796875\n",
      "Got accuracy (63.23)\n",
      "5\n",
      "Iteration 0, loss = 2.5743\n",
      "total_batch_mse 0.05545644912160917\n",
      "num samles 500\n",
      "370.7967834472656\n",
      "Got accuracy (74.16)\n",
      "6\n",
      "Iteration 0, loss = 2.4504\n",
      "total_batch_mse 0.052788107624242964\n",
      "num samles 500\n",
      "352.5419006347656\n",
      "Got accuracy (70.51)\n",
      "7\n",
      "Iteration 0, loss = 0.5974\n",
      "total_batch_mse 0.01286989088358421\n",
      "num samles 500\n",
      "305.36358642578125\n",
      "Got accuracy (61.07)\n",
      "8\n",
      "Iteration 0, loss = 1.7207\n",
      "total_batch_mse 0.037067805010406484\n",
      "num samles 500\n",
      "354.76092529296875\n",
      "Got accuracy (70.95)\n",
      "9\n",
      "Iteration 0, loss = 0.5083\n",
      "total_batch_mse 0.010949645459472183\n",
      "num samles 500\n",
      "311.34674072265625\n",
      "Got accuracy (62.27)\n"
     ]
    }
   ],
   "source": [
    "print_every = 100\n",
    "epoches = 10\n",
    "learning_rate = 4e-3\n",
    "\n",
    "optimizer =optim.Adam(model.parameters(), lr=learning_rate)\n",
    "# optimizer = optim.SGD(model.parameters(), lr=learning_rate,\n",
    "#                      momentum=0.9, nesterov=True)\n",
    "\n",
    "train_errors,losses,epoch_error,accuracy = train_part34(model, optimizer,epochs=epoches)\n"
   ]
  },
  {
   "cell_type": "code",
   "execution_count": 71,
   "metadata": {},
   "outputs": [
    {
     "data": {
      "text/plain": [
       "{0: 0.2597607970237732,\n",
       " 1: 0.2837301790714264,\n",
       " 2: 1.5169614553451538,\n",
       " 3: 0.6743429899215698,\n",
       " 4: 13.732020378112793,\n",
       " 5: 0.3080003261566162,\n",
       " 6: 0.8172727227210999,\n",
       " 7: 0.31201601028442383,\n",
       " 8: 1.7798025608062744,\n",
       " 9: 0.43962544202804565}"
      ]
     },
     "execution_count": 71,
     "metadata": {},
     "output_type": "execute_result"
    }
   ],
   "source": [
    "losses"
   ]
  },
  {
   "cell_type": "code",
   "execution_count": 72,
   "metadata": {},
   "outputs": [
    {
     "data": {
      "image/png": "[encoded data removed]",
      "text/plain": [
       "<Figure size 720x576 with 1 Axes>"
      ]
     },
     "metadata": {
      "needs_background": "light"
     },
     "output_type": "display_data"
    }
   ],
   "source": [
    "epoch_error_sorted = sorted(epoch_error.items()) # sorted by key, return a list of tuples\n",
    "\n",
    "x, y = zip(*epoch_error_sorted) # unpack a list of pairs into two tuples\n",
    "\n",
    "plt.plot(x, y)\n",
    "\n",
    "plt.xlabel('epoch')\n",
    "plt.ylabel('loss')\n",
    "plt.show()"
   ]
  },
  {
   "cell_type": "code",
   "execution_count": 50,
   "metadata": {
    "scrolled": true
   },
   "outputs": [
    {
     "data": {
      "text/plain": [
       "{0: 2000.3328241122174,\n",
       " 1: 2.0129313773504878,\n",
       " 2: 1.5757316623151116,\n",
       " 3: 1.5681267079994727,\n",
       " 4: 1.5681572499227958,\n",
       " 5: 1.611948006243503,\n",
       " 6: 1.5671113546887945,\n",
       " 7: 1.5645782423527885,\n",
       " 8: 1.567220194798921,\n",
       " 9: 1.5728313612275369,\n",
       " 10: 1.5862958033066374,\n",
       " 11: 1.5644627490443228,\n",
       " 12: 1.5737695992634968,\n",
       " 13: 1.567717266976448,\n",
       " 14: 1.6190983184911427,\n",
       " 15: 1.5783823313948309,\n",
       " 16: 1.5743284351812359,\n",
       " 17: 1.5648491985579087,\n",
       " 18: 1.564392651953301,\n",
       " 19: 1.5718828920453127,\n",
       " 20: 1.5942252562483652,\n",
       " 21: 1.5734041940287649,\n",
       " 22: 1.5635615395272096,\n",
       " 23: 1.5689902087831642,\n",
       " 24: 1.6205196902444787,\n",
       " 25: 1.5714019328317268,\n",
       " 26: 1.5687316097559885,\n",
       " 27: 1.6041898242053878,\n",
       " 28: 1.5830476458141487,\n",
       " 29: 1.5656336609118457,\n",
       " 30: 1.572865570659835,\n",
       " 31: 1.5849038175291565,\n",
       " 32: 1.566449710389038,\n",
       " 33: 1.5753056374103638,\n",
       " 34: 1.5678830159116237,\n",
       " 35: 1.6156417145548267,\n",
       " 36: 1.5662426092870172,\n",
       " 37: 1.611607080387278,\n",
       " 38: 1.5697133908339587,\n",
       " 39: 1.579785923514064,\n",
       " 40: 1.56490687266448,\n",
       " 41: 1.6235058174622259,\n",
       " 42: 1.6073302776327631,\n",
       " 43: 1.5667515731818304,\n",
       " 44: 1.5682668572404888,\n",
       " 45: 1.5826955559643001,\n",
       " 46: 1.5690243485568671,\n",
       " 47: 1.5649382642942582,\n",
       " 48: 1.6017423819899812,\n",
       " 49: 1.6112981660260255,\n",
       " 50: 1.5738189605637287,\n",
       " 51: 1.5718912562128287,\n",
       " 52: 1.5955542533215854,\n",
       " 53: 1.5789714540350492,\n",
       " 54: 1.617336584570489,\n",
       " 55: 1.566000820772754,\n",
       " 56: 1.609148654584379,\n",
       " 57: 1.5682424959926857,\n",
       " 58: 1.5662724796629632,\n",
       " 59: 1.5828003340474193,\n",
       " 60: 1.5664545819965838,\n",
       " 61: 1.5683105688113583,\n",
       " 62: 1.5711205734204035,\n",
       " 63: 1.5658467122061095,\n",
       " 64: 1.568962278575643,\n",
       " 65: 1.597313677915362,\n",
       " 66: 1.570351437241391,\n",
       " 67: 1.5934600495203257,\n",
       " 68: 1.5962343658162106,\n",
       " 69: 1.570971067136138,\n",
       " 70: 1.5674769814185974,\n",
       " 71: 1.5805468605233388,\n",
       " 72: 1.5670683929910956,\n",
       " 73: 1.6073619019928698,\n",
       " 74: 1.5647346336026993,\n",
       " 75: 1.565386838360318,\n",
       " 76: 1.5698062650015112,\n",
       " 77: 1.5853793318160694,\n",
       " 78: 1.5651869310330135,\n",
       " 79: 1.5679889464111278,\n",
       " 80: 1.5652070421435,\n",
       " 81: 1.5663630949017922,\n",
       " 82: 1.5689672188787616,\n",
       " 83: 1.5667950269837978,\n",
       " 84: 1.5707777555468572,\n",
       " 85: 1.5732213180674297,\n",
       " 86: 1.5734895434630227,\n",
       " 87: 1.5704060643461948,\n",
       " 88: 1.5740370895522569,\n",
       " 89: 1.5691637305903157,\n",
       " 90: 1.566952959389997,\n",
       " 91: 1.5761105774651825,\n",
       " 92: 1.568431503194409,\n",
       " 93: 1.6031791637011616,\n",
       " 94: 1.5672705383816448,\n",
       " 95: 1.6030038978610763,\n",
       " 96: 1.5680079378479774,\n",
       " 97: 1.5711858483390118,\n",
       " 98: 1.5953151850236078,\n",
       " 99: 1.571487208755301}"
      ]
     },
     "execution_count": 50,
     "metadata": {},
     "output_type": "execute_result"
    }
   ],
   "source": [
    "epoch_error"
   ]
  },
  {
   "cell_type": "code",
   "execution_count": 58,
   "metadata": {},
   "outputs": [
    {
     "data": {
      "image/png": "[encoded data removed]",
      "text/plain": [
       "<Figure size 720x576 with 1 Axes>"
      ]
     },
     "metadata": {
      "needs_background": "light"
     },
     "output_type": "display_data"
    }
   ],
   "source": [
    "epoch_error_sorted = sorted(epoch_error.items()) # sorted by key, return a list of tuples\n",
    "\n",
    "x, y = zip(*epoch_error_sorted) # unpack a list of pairs into two tuples\n",
    "\n",
    "plt.plot(x, y)\n",
    "\n",
    "plt.xlabel('epoch')\n",
    "plt.ylabel('loss')\n",
    "plt.show()"
   ]
  },
  {
   "cell_type": "code",
   "execution_count": null,
   "metadata": {},
   "outputs": [],
   "source": []
  },
  {
   "cell_type": "code",
   "execution_count": 62,
   "metadata": {},
   "outputs": [
    {
     "data": {
      "text/plain": [
       "[<matplotlib.lines.Line2D at 0x7f4136841860>]"
      ]
     },
     "execution_count": 62,
     "metadata": {},
     "output_type": "execute_result"
    },
    {
     "data": {
      "image/png": "[encoded data removed]",
      "text/plain": [
       "<Figure size 720x576 with 1 Axes>"
      ]
     },
     "metadata": {
      "needs_background": "light"
     },
     "output_type": "display_data"
    }
   ],
   "source": [
    "plt.plot(train_errors)"
   ]
  },
  {
   "cell_type": "code",
   "execution_count": 63,
   "metadata": {
    "scrolled": true
   },
   "outputs": [
    {
     "data": {
      "text/plain": [
       "[9318430.72,\n",
       " 159.580296875,\n",
       " 156.089546875,\n",
       " 156.224609375,\n",
       " 155.955421875,\n",
       " 156.325375,\n",
       " 156.198765625,\n",
       " 156.0925625,\n",
       " 156.92775,\n",
       " 156.19009375,\n",
       " 156.104484375,\n",
       " 156.119015625,\n",
       " 157.103921875,\n",
       " 155.954703125,\n",
       " 155.951640625,\n",
       " 155.9849375,\n",
       " 156.1535,\n",
       " 156.09265625,\n",
       " 156.944953125,\n",
       " 156.299734375,\n",
       " 156.0914375,\n",
       " 156.084,\n",
       " 155.954390625,\n",
       " 157.003125,\n",
       " 156.451375,\n",
       " 155.9565,\n",
       " 156.38253125,\n",
       " 156.991078125,\n",
       " 156.614625,\n",
       " 156.210078125,\n",
       " 156.947078125,\n",
       " 156.59696875,\n",
       " 156.2668125,\n",
       " 156.52728125,\n",
       " 156.153078125,\n",
       " 156.178796875,\n",
       " 156.0090625,\n",
       " 155.952125,\n",
       " 155.95096875,\n",
       " 156.37384375,\n",
       " 156.017515625,\n",
       " 155.958359375,\n",
       " 156.18709375,\n",
       " 156.176515625,\n",
       " 156.206015625,\n",
       " 156.131734375,\n",
       " 155.96175,\n",
       " 156.093796875,\n",
       " 156.4180625,\n",
       " 156.112453125,\n",
       " 156.62965625,\n",
       " 156.01371875,\n",
       " 156.24015625,\n",
       " 156.14625,\n",
       " 156.3891875,\n",
       " 156.6825,\n",
       " 156.483296875,\n",
       " 156.125296875,\n",
       " 156.2014375,\n",
       " 156.466984375,\n",
       " 156.21703125,\n",
       " 155.952515625,\n",
       " 156.05953125,\n",
       " 155.9941875,\n",
       " 156.63825,\n",
       " 156.80884375,\n",
       " 156.273921875,\n",
       " 155.97521875,\n",
       " 156.183203125,\n",
       " 156.673921875,\n",
       " 155.95525,\n",
       " 155.951,\n",
       " 155.953859375,\n",
       " 156.0414375,\n",
       " 156.044359375,\n",
       " 156.54334375,\n",
       " 156.88715625,\n",
       " 156.386796875,\n",
       " 155.95125,\n",
       " 156.313953125,\n",
       " 156.477640625,\n",
       " 156.0065625,\n",
       " 156.71778125,\n",
       " 156.1320625,\n",
       " 156.28834375,\n",
       " 156.19878125,\n",
       " 155.98878125,\n",
       " 156.20328125,\n",
       " 156.19203125,\n",
       " 157.45853125,\n",
       " 155.98021875,\n",
       " 156.4093125,\n",
       " 156.293265625,\n",
       " 156.362515625,\n",
       " 155.986765625,\n",
       " 156.554234375,\n",
       " 156.44240625,\n",
       " 157.393421875,\n",
       " 155.988171875,\n",
       " 155.98696875,\n",
       " 156.72428125,\n",
       " 156.4835625,\n",
       " 156.349609375,\n",
       " 156.27034375,\n",
       " 156.219890625,\n",
       " 156.1713125,\n",
       " 156.188328125,\n",
       " 156.16575,\n",
       " 156.173375,\n",
       " 156.1518125]"
      ]
     },
     "execution_count": 63,
     "metadata": {},
     "output_type": "execute_result"
    }
   ],
   "source": [
    "all_accuracy"
   ]
  },
  {
   "cell_type": "code",
   "execution_count": 55,
   "metadata": {},
   "outputs": [
    {
     "data": {
      "text/plain": [
       "[<matplotlib.lines.Line2D at 0x7f41374e8b70>]"
      ]
     },
     "execution_count": 55,
     "metadata": {},
     "output_type": "execute_result"
    },
    {
     "data": {
      "image/png": "[encoded data removed]",
      "text/plain": [
       "<Figure size 720x576 with 1 Axes>"
      ]
     },
     "metadata": {
      "needs_background": "light"
     },
     "output_type": "display_data"
    }
   ],
   "source": [
    "plt.plot(all_accuracy)"
   ]
  },
  {
   "cell_type": "code",
   "execution_count": 1,
   "metadata": {},
   "outputs": [
    {
     "ename": "NameError",
     "evalue": "name 'epoch_error' is not defined",
     "output_type": "error",
     "traceback": [
      "\u001b[0;31m---------------------------------------------------------------------------\u001b[0m",
      "\u001b[0;31mNameError\u001b[0m                                 Traceback (most recent call last)",
      "\u001b[0;32m<ipython-input-1-c1e79f5345ed>\u001b[0m in \u001b[0;36m<module>\u001b[0;34m\u001b[0m\n\u001b[0;32m----> 1\u001b[0;31m \u001b[0mepoch_error\u001b[0m\u001b[0;34m\u001b[0m\u001b[0;34m\u001b[0m\u001b[0m\n\u001b[0m",
      "\u001b[0;31mNameError\u001b[0m: name 'epoch_error' is not defined"
     ]
    }
   ],
   "source": [
    "epoch_error"
   ]
  },
  {
   "cell_type": "code",
   "execution_count": 72,
   "metadata": {
    "scrolled": true
   },
   "outputs": [
    {
     "data": {
      "image/png": "[encoded data removed]",
      "text/plain": [
       "<Figure size 432x288 with 1 Axes>"
      ]
     },
     "metadata": {
      "needs_background": "light"
     },
     "output_type": "display_data"
    }
   ],
   "source": [
    "lists = sorted(epoch_error.items()) # sorted by key, return a list of tuples\n",
    "\n",
    "x, y = zip(*lists) # unpack a list of pairs into two tuples\n",
    "\n",
    "plt.plot(x, y)\n",
    "plt.show()"
   ]
  },
  {
   "cell_type": "code",
   "execution_count": 69,
   "metadata": {},
   "outputs": [
    {
     "data": {
      "text/plain": [
       "Text(0, 0.5, 'loss')"
      ]
     },
     "execution_count": 69,
     "metadata": {},
     "output_type": "execute_result"
    },
    {
     "data": {
      "image/png": "[encoded data removed]",
      "text/plain": [
       "<Figure size 432x288 with 1 Axes>"
      ]
     },
     "metadata": {
      "needs_background": "light"
     },
     "output_type": "display_data"
    }
   ],
   "source": [
    "plt.plot(epoch_error.values(), 'o')\n",
    "#set_ylim(0,0.35)\n",
    "plt.xlabel('iteration')\n",
    "plt.ylabel('loss')"
   ]
  },
  {
   "cell_type": "code",
   "execution_count": 73,
   "metadata": {},
   "outputs": [
    {
     "ename": "AttributeError",
     "evalue": "'list' object has no attribute 'items'",
     "output_type": "error",
     "traceback": [
      "\u001b[0;31m---------------------------------------------------------------------------\u001b[0m",
      "\u001b[0;31mAttributeError\u001b[0m                            Traceback (most recent call last)",
      "\u001b[0;32m<ipython-input-73-ac6da51dbf56>\u001b[0m in \u001b[0;36m<module>\u001b[0;34m\u001b[0m\n\u001b[0;32m----> 1\u001b[0;31m \u001b[0mlists\u001b[0m \u001b[0;34m=\u001b[0m \u001b[0msorted\u001b[0m\u001b[0;34m(\u001b[0m\u001b[0mtrain_errors\u001b[0m\u001b[0;34m.\u001b[0m\u001b[0mitems\u001b[0m\u001b[0;34m(\u001b[0m\u001b[0;34m)\u001b[0m\u001b[0;34m)\u001b[0m \u001b[0;31m# sorted by key, return a list of tuples\u001b[0m\u001b[0;34m\u001b[0m\u001b[0;34m\u001b[0m\u001b[0m\n\u001b[0m\u001b[1;32m      2\u001b[0m \u001b[0;34m\u001b[0m\u001b[0m\n\u001b[1;32m      3\u001b[0m \u001b[0mx\u001b[0m\u001b[0;34m,\u001b[0m \u001b[0my\u001b[0m \u001b[0;34m=\u001b[0m \u001b[0mzip\u001b[0m\u001b[0;34m(\u001b[0m\u001b[0;34m*\u001b[0m\u001b[0mlists\u001b[0m\u001b[0;34m)\u001b[0m \u001b[0;31m# unpack a list of pairs into two tuples\u001b[0m\u001b[0;34m\u001b[0m\u001b[0;34m\u001b[0m\u001b[0m\n\u001b[1;32m      4\u001b[0m \u001b[0;34m\u001b[0m\u001b[0m\n\u001b[1;32m      5\u001b[0m \u001b[0mplt\u001b[0m\u001b[0;34m.\u001b[0m\u001b[0mplot\u001b[0m\u001b[0;34m(\u001b[0m\u001b[0mx\u001b[0m\u001b[0;34m,\u001b[0m \u001b[0my\u001b[0m\u001b[0;34m)\u001b[0m\u001b[0;34m\u001b[0m\u001b[0;34m\u001b[0m\u001b[0m\n",
      "\u001b[0;31mAttributeError\u001b[0m: 'list' object has no attribute 'items'"
     ]
    }
   ],
   "source": [
    "lists = sorted(train_errors.items()) # sorted by key, return a list of tuples\n",
    "\n",
    "x, y = zip(*lists) # unpack a list of pairs into two tuples\n",
    "\n",
    "plt.plot(x, y)\n",
    "plt.show()"
   ]
  },
  {
   "cell_type": "code",
   "execution_count": 75,
   "metadata": {},
   "outputs": [
    {
     "data": {
      "text/plain": [
       "Text(0, 0.5, 'loss')"
      ]
     },
     "execution_count": 75,
     "metadata": {},
     "output_type": "execute_result"
    },
    {
     "data": {
      "image/png": "[encoded data removed]",
      "text/plain": [
       "<Figure size 432x288 with 1 Axes>"
      ]
     },
     "metadata": {
      "needs_background": "light"
     },
     "output_type": "display_data"
    }
   ],
   "source": [
    "plt.plot(train_errors, 'o')\n",
    "#set_ylim(0,0.35)\n",
    "plt.xlabel('iteration')\n",
    "plt.ylabel('loss')"
   ]
  },
  {
   "cell_type": "code",
   "execution_count": 77,
   "metadata": {},
   "outputs": [
    {
     "data": {
      "text/plain": [
       "Text(0, 0.5, 'loss')"
      ]
     },
     "execution_count": 77,
     "metadata": {},
     "output_type": "execute_result"
    },
    {
     "data": {
      "image/png": "[encoded data removed]",
      "text/plain": [
       "<Figure size 432x288 with 1 Axes>"
      ]
     },
     "metadata": {
      "needs_background": "light"
     },
     "output_type": "display_data"
    }
   ],
   "source": [
    "plt.plot(losses, 'o')\n",
    "#set_ylim(0,0.35)\n",
    "plt.xlabel('iteration')\n",
    "plt.ylabel('loss')"
   ]
  },
  {
   "cell_type": "code",
   "execution_count": null,
   "metadata": {},
   "outputs": [],
   "source": []
  }
 ],
 "metadata": {
  "kernelspec": {
   "display_name": "Python 3",
   "language": "python",
   "name": "python3"
  },
  "language_info": {
   "codemirror_mode": {
    "name": "ipython",
    "version": 3
   },
   "file_extension": ".py",
   "mimetype": "text/x-python",
   "name": "python",
   "nbconvert_exporter": "python",
   "pygments_lexer": "ipython3",
   "version": "3.7.3"
  }
 },
 "nbformat": 4,
 "nbformat_minor": 2
}
