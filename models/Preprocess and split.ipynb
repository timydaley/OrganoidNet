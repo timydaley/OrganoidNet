{
 "cells": [
  {
   "cell_type": "code",
   "execution_count": 36,
   "metadata": {},
   "outputs": [
    {
     "name": "stdout",
     "output_type": "stream",
     "text": [
      "The autoreload extension is already loaded. To reload it, use:\n",
      "  %reload_ext autoreload\n"
     ]
    }
   ],
   "source": [
    "from skimage import io, transform, color\n",
    "import torch\n",
    "import torch.nn as nn\n",
    "import torch.optim as optim\n",
    "import torch.nn.functional as F\n",
    "from torch.utils.data import DataLoader\n",
    "from torch.utils.data import sampler\n",
    "import torchvision.datasets as dset\n",
    "import torchvision.transforms as T\n",
    "from dataLoader import OrganoidDataset\n",
    "from torch.utils import data\n",
    "import numpy as np\n",
    "import sys\n",
    "import pandas as pd\n",
    "from imageio import imread\n",
    "from PIL import Image\n",
    "import os\n",
    "\n",
    "from dataLoader import OrganoidDataset\n",
    "#from conv_model import SimpleConvNet\n",
    "import matplotlib.pyplot as plt\n",
    "\n",
    "\n",
    "%matplotlib inline\n",
    "plt.rcParams['figure.figsize'] = (20.0, 10.0) # set default size of plots\n",
    "plt.rcParams['image.interpolation'] = 'nearest'\n",
    "plt.rcParams['image.cmap'] = 'gray'\n",
    "plt.rcParams['pdf.fonttype'] = 42\n",
    "plt.rcParams['ps.fonttype'] = 42\n",
    "# for auto-reloading external modules\n",
    "# see http://stackoverflow.com/questions/1907993/autoreload-of-modules-in-ipython\n",
    "%load_ext autoreload\n",
    "%autoreload 2"
   ]
  },
  {
   "cell_type": "code",
   "execution_count": 37,
   "metadata": {},
   "outputs": [],
   "source": [
    "figure_path = '../milestoneReport/figures/'\n",
    "path = '../data/'\n",
    "label_path = '../data/'"
   ]
  },
  {
   "cell_type": "code",
   "execution_count": 38,
   "metadata": {},
   "outputs": [],
   "source": [
    "wellA1 = pd.read_csv('../data/well_summary_A1_e0891BSA_all.csv')\n",
    "wellA2 = pd.read_csv(label_path+'well_summary_A2.csv')\n",
    "wellA3 = pd.read_csv(label_path+'well_summary_A3.csv')\n",
    "wellA4 = pd.read_csv(label_path+'well_summary_A4.csv')\n",
    "wellC1 = pd.read_csv(label_path+'well_summary_C1.csv')"
   ]
  },
  {
   "cell_type": "code",
   "execution_count": 39,
   "metadata": {},
   "outputs": [],
   "source": [
    "wellA1['condition'] = 'A1'\n",
    "wellA2['condition'] = 'A2'\n",
    "wellA3['condition'] = 'A3'\n",
    "wellA4['condition'] = 'A4'\n",
    "wellC1['condition'] = 'C1'"
   ]
  },
  {
   "cell_type": "code",
   "execution_count": 40,
   "metadata": {},
   "outputs": [
    {
     "data": {
      "text/plain": [
       "((67200, 7), (50400, 7), (50263, 7), (33600, 7), (44800, 7))"
      ]
     },
     "execution_count": 40,
     "metadata": {},
     "output_type": "execute_result"
    }
   ],
   "source": [
    "wellA1.shape, wellA2.shape,wellA3.shape,wellA4.shape,wellC1.shape"
   ]
  },
  {
   "cell_type": "code",
   "execution_count": 6,
   "metadata": {},
   "outputs": [
    {
     "data": {
      "text/html": [
       "<div>\n",
       "<style scoped>\n",
       "    .dataframe tbody tr th:only-of-type {\n",
       "        vertical-align: middle;\n",
       "    }\n",
       "\n",
       "    .dataframe tbody tr th {\n",
       "        vertical-align: top;\n",
       "    }\n",
       "\n",
       "    .dataframe thead th {\n",
       "        text-align: right;\n",
       "    }\n",
       "</style>\n",
       "<table border=\"1\" class=\"dataframe\">\n",
       "  <thead>\n",
       "    <tr style=\"text-align: right;\">\n",
       "      <th></th>\n",
       "      <th>well id</th>\n",
       "      <th>day</th>\n",
       "      <th>median pixel intensity</th>\n",
       "      <th>mw_area shape</th>\n",
       "      <th>hyst1 area</th>\n",
       "      <th>hyst2 area</th>\n",
       "      <th>condition</th>\n",
       "    </tr>\n",
       "  </thead>\n",
       "  <tbody>\n",
       "    <tr>\n",
       "      <th>0</th>\n",
       "      <td>0</td>\n",
       "      <td>0</td>\n",
       "      <td>125.0</td>\n",
       "      <td>7830</td>\n",
       "      <td>512</td>\n",
       "      <td>418</td>\n",
       "      <td>A1</td>\n",
       "    </tr>\n",
       "    <tr>\n",
       "      <th>1</th>\n",
       "      <td>1</td>\n",
       "      <td>0</td>\n",
       "      <td>125.0</td>\n",
       "      <td>8265</td>\n",
       "      <td>3044</td>\n",
       "      <td>3008</td>\n",
       "      <td>A1</td>\n",
       "    </tr>\n",
       "  </tbody>\n",
       "</table>\n",
       "</div>"
      ],
      "text/plain": [
       "   well id  day  median pixel intensity  mw_area shape  hyst1 area  \\\n",
       "0        0    0                   125.0           7830         512   \n",
       "1        1    0                   125.0           8265        3044   \n",
       "\n",
       "   hyst2 area condition  \n",
       "0         418        A1  \n",
       "1        3008        A1  "
      ]
     },
     "execution_count": 6,
     "metadata": {},
     "output_type": "execute_result"
    }
   ],
   "source": [
    "wellA1.head(2)"
   ]
  },
  {
   "cell_type": "code",
   "execution_count": 7,
   "metadata": {},
   "outputs": [
    {
     "data": {
      "text/html": [
       "<div>\n",
       "<style scoped>\n",
       "    .dataframe tbody tr th:only-of-type {\n",
       "        vertical-align: middle;\n",
       "    }\n",
       "\n",
       "    .dataframe tbody tr th {\n",
       "        vertical-align: top;\n",
       "    }\n",
       "\n",
       "    .dataframe thead th {\n",
       "        text-align: right;\n",
       "    }\n",
       "</style>\n",
       "<table border=\"1\" class=\"dataframe\">\n",
       "  <thead>\n",
       "    <tr style=\"text-align: right;\">\n",
       "      <th></th>\n",
       "      <th>well id</th>\n",
       "      <th>day</th>\n",
       "      <th>median pixel intensity</th>\n",
       "      <th>mw_area shape</th>\n",
       "      <th>hyst1 area</th>\n",
       "      <th>hyst2 area</th>\n",
       "      <th>condition</th>\n",
       "    </tr>\n",
       "  </thead>\n",
       "  <tbody>\n",
       "    <tr>\n",
       "      <th>0</th>\n",
       "      <td>0</td>\n",
       "      <td>0</td>\n",
       "      <td>130.0</td>\n",
       "      <td>32396</td>\n",
       "      <td>11222</td>\n",
       "      <td>10702</td>\n",
       "      <td>A2</td>\n",
       "    </tr>\n",
       "    <tr>\n",
       "      <th>1</th>\n",
       "      <td>1</td>\n",
       "      <td>0</td>\n",
       "      <td>131.0</td>\n",
       "      <td>9500</td>\n",
       "      <td>43</td>\n",
       "      <td>0</td>\n",
       "      <td>A2</td>\n",
       "    </tr>\n",
       "  </tbody>\n",
       "</table>\n",
       "</div>"
      ],
      "text/plain": [
       "   well id  day  median pixel intensity  mw_area shape  hyst1 area  \\\n",
       "0        0    0                   130.0          32396       11222   \n",
       "1        1    0                   131.0           9500          43   \n",
       "\n",
       "   hyst2 area condition  \n",
       "0       10702        A2  \n",
       "1           0        A2  "
      ]
     },
     "execution_count": 7,
     "metadata": {},
     "output_type": "execute_result"
    }
   ],
   "source": [
    "wellA2.head(2)"
   ]
  },
  {
   "cell_type": "code",
   "execution_count": 8,
   "metadata": {},
   "outputs": [
    {
     "data": {
      "text/html": [
       "<div>\n",
       "<style scoped>\n",
       "    .dataframe tbody tr th:only-of-type {\n",
       "        vertical-align: middle;\n",
       "    }\n",
       "\n",
       "    .dataframe tbody tr th {\n",
       "        vertical-align: top;\n",
       "    }\n",
       "\n",
       "    .dataframe thead th {\n",
       "        text-align: right;\n",
       "    }\n",
       "</style>\n",
       "<table border=\"1\" class=\"dataframe\">\n",
       "  <thead>\n",
       "    <tr style=\"text-align: right;\">\n",
       "      <th></th>\n",
       "      <th>well id</th>\n",
       "      <th>day</th>\n",
       "      <th>median pixel intensity</th>\n",
       "      <th>mw_area shape</th>\n",
       "      <th>hyst1 area</th>\n",
       "      <th>hyst2 area</th>\n",
       "      <th>condition</th>\n",
       "    </tr>\n",
       "  </thead>\n",
       "  <tbody>\n",
       "    <tr>\n",
       "      <th>0</th>\n",
       "      <td>0</td>\n",
       "      <td>0</td>\n",
       "      <td>117.0</td>\n",
       "      <td>7224</td>\n",
       "      <td>139</td>\n",
       "      <td>141</td>\n",
       "      <td>C1</td>\n",
       "    </tr>\n",
       "    <tr>\n",
       "      <th>1</th>\n",
       "      <td>1</td>\n",
       "      <td>0</td>\n",
       "      <td>118.0</td>\n",
       "      <td>7308</td>\n",
       "      <td>422</td>\n",
       "      <td>388</td>\n",
       "      <td>C1</td>\n",
       "    </tr>\n",
       "  </tbody>\n",
       "</table>\n",
       "</div>"
      ],
      "text/plain": [
       "   well id  day  median pixel intensity  mw_area shape  hyst1 area  \\\n",
       "0        0    0                   117.0           7224         139   \n",
       "1        1    0                   118.0           7308         422   \n",
       "\n",
       "   hyst2 area condition  \n",
       "0         141        C1  \n",
       "1         388        C1  "
      ]
     },
     "execution_count": 8,
     "metadata": {},
     "output_type": "execute_result"
    }
   ],
   "source": [
    "wellC1.head(2)"
   ]
  },
  {
   "cell_type": "code",
   "execution_count": 9,
   "metadata": {},
   "outputs": [
    {
     "data": {
      "text/plain": [
       "day\n",
       "0     4800\n",
       "1     4800\n",
       "2     4800\n",
       "3     4800\n",
       "4     4800\n",
       "5     4800\n",
       "6     4800\n",
       "7     4800\n",
       "8     4800\n",
       "9     4800\n",
       "10    4800\n",
       "11    4800\n",
       "12    4800\n",
       "13    4800\n",
       "Name: well id, dtype: int64"
      ]
     },
     "execution_count": 9,
     "metadata": {},
     "output_type": "execute_result"
    }
   ],
   "source": [
    "wellA1.groupby(by='day')['well id'].count()"
   ]
  },
  {
   "cell_type": "code",
   "execution_count": 10,
   "metadata": {},
   "outputs": [
    {
     "data": {
      "text/plain": [
       "day\n",
       "0     3600\n",
       "1     3600\n",
       "2     3600\n",
       "3     3600\n",
       "4     3600\n",
       "5     3600\n",
       "6     3600\n",
       "7     3600\n",
       "8     3600\n",
       "9     3600\n",
       "10    3600\n",
       "11    3600\n",
       "12    3600\n",
       "13    3600\n",
       "Name: well id, dtype: int64"
      ]
     },
     "execution_count": 10,
     "metadata": {},
     "output_type": "execute_result"
    }
   ],
   "source": [
    "wellA2.groupby(by='day')['well id'].count()"
   ]
  },
  {
   "cell_type": "code",
   "execution_count": 11,
   "metadata": {},
   "outputs": [
    {
     "data": {
      "text/plain": [
       "day\n",
       "3    3600\n",
       "5    3600\n",
       "6    3596\n",
       "Name: well id, dtype: int64"
      ]
     },
     "execution_count": 11,
     "metadata": {},
     "output_type": "execute_result"
    }
   ],
   "source": [
    "wellA3.groupby(by='day')['well id'].count()"
   ]
  },
  {
   "cell_type": "code",
   "execution_count": 12,
   "metadata": {},
   "outputs": [
    {
     "data": {
      "text/plain": [
       "day\n",
       "0     3200\n",
       "1     3200\n",
       "2     3200\n",
       "3     3200\n",
       "4     3200\n",
       "5     3200\n",
       "6     3200\n",
       "7     3200\n",
       "8     3200\n",
       "9     3200\n",
       "10    3200\n",
       "11    3200\n",
       "12    3200\n",
       "13    3200\n",
       "Name: well id, dtype: int64"
      ]
     },
     "execution_count": 12,
     "metadata": {},
     "output_type": "execute_result"
    }
   ],
   "source": [
    "wellC1.groupby(by='day')['well id'].count()"
   ]
  },
  {
   "cell_type": "code",
   "execution_count": 13,
   "metadata": {},
   "outputs": [
    {
     "data": {
      "text/plain": [
       "day\n",
       "0     11118030\n",
       "1      9515283\n",
       "2      9699242\n",
       "3     10188886\n",
       "4      9387332\n",
       "5     11237400\n",
       "6     10763021\n",
       "7     12244466\n",
       "8     11280029\n",
       "9     11625314\n",
       "10    12835175\n",
       "11    13009691\n",
       "12    13693762\n",
       "13    13596488\n",
       "Name: hyst2 area, dtype: int64"
      ]
     },
     "execution_count": 13,
     "metadata": {},
     "output_type": "execute_result"
    }
   ],
   "source": [
    "wellA2.groupby(by='day')['hyst2 area'].sum()"
   ]
  },
  {
   "cell_type": "code",
   "execution_count": 14,
   "metadata": {},
   "outputs": [
    {
     "data": {
      "text/plain": [
       "day\n",
       "0     1259622\n",
       "1      928593\n",
       "2      929989\n",
       "3     1128199\n",
       "4     1661649\n",
       "5     2061019\n",
       "6     1971614\n",
       "7     1753965\n",
       "8     1991609\n",
       "9     2784164\n",
       "10    2098197\n",
       "11    2164090\n",
       "12    2155446\n",
       "13    2357182\n",
       "Name: hyst2 area, dtype: int64"
      ]
     },
     "execution_count": 14,
     "metadata": {},
     "output_type": "execute_result"
    }
   ],
   "source": [
    "wellC1.groupby(by='day')['hyst2 area'].sum()"
   ]
  },
  {
   "cell_type": "code",
   "execution_count": null,
   "metadata": {},
   "outputs": [],
   "source": []
  },
  {
   "cell_type": "code",
   "execution_count": 41,
   "metadata": {},
   "outputs": [],
   "source": [
    "label = pd.concat([wellA1,wellA2,wellA3,wellA4,wellC1],sort=False)\n",
    "new_columns = ['well_id','day','median_pixel_intensity','mw_area_shape','hyst1_area','hyst2_area','condition']\n",
    "label.columns = new_columns"
   ]
  },
  {
   "cell_type": "code",
   "execution_count": 42,
   "metadata": {},
   "outputs": [
    {
     "data": {
      "text/html": [
       "<div>\n",
       "<style scoped>\n",
       "    .dataframe tbody tr th:only-of-type {\n",
       "        vertical-align: middle;\n",
       "    }\n",
       "\n",
       "    .dataframe tbody tr th {\n",
       "        vertical-align: top;\n",
       "    }\n",
       "\n",
       "    .dataframe thead th {\n",
       "        text-align: right;\n",
       "    }\n",
       "</style>\n",
       "<table border=\"1\" class=\"dataframe\">\n",
       "  <thead>\n",
       "    <tr style=\"text-align: right;\">\n",
       "      <th></th>\n",
       "      <th>well_id</th>\n",
       "      <th>day</th>\n",
       "      <th>median_pixel_intensity</th>\n",
       "      <th>mw_area_shape</th>\n",
       "      <th>hyst1_area</th>\n",
       "      <th>hyst2_area</th>\n",
       "      <th>condition</th>\n",
       "    </tr>\n",
       "  </thead>\n",
       "  <tbody>\n",
       "    <tr>\n",
       "      <th>0</th>\n",
       "      <td>0</td>\n",
       "      <td>0</td>\n",
       "      <td>125.0</td>\n",
       "      <td>7830</td>\n",
       "      <td>512</td>\n",
       "      <td>418</td>\n",
       "      <td>A1</td>\n",
       "    </tr>\n",
       "    <tr>\n",
       "      <th>1</th>\n",
       "      <td>1</td>\n",
       "      <td>0</td>\n",
       "      <td>125.0</td>\n",
       "      <td>8265</td>\n",
       "      <td>3044</td>\n",
       "      <td>3008</td>\n",
       "      <td>A1</td>\n",
       "    </tr>\n",
       "  </tbody>\n",
       "</table>\n",
       "</div>"
      ],
      "text/plain": [
       "   well_id  day  median_pixel_intensity  mw_area_shape  hyst1_area  \\\n",
       "0        0    0                   125.0           7830         512   \n",
       "1        1    0                   125.0           8265        3044   \n",
       "\n",
       "   hyst2_area condition  \n",
       "0         418        A1  \n",
       "1        3008        A1  "
      ]
     },
     "execution_count": 42,
     "metadata": {},
     "output_type": "execute_result"
    }
   ],
   "source": [
    "label.head(2)"
   ]
  },
  {
   "cell_type": "code",
   "execution_count": 43,
   "metadata": {},
   "outputs": [],
   "source": [
    "def get_image_name(well_id,day_id):\n",
    "    image_name = 'well'+str(well_id).zfill(4)+'_day'+str(day_id).zfill(2)+'_well.png'\n",
    "    return image_name\n",
    "def get_well_label(well_id):\n",
    "    return str(well_id).zfill(4)"
   ]
  },
  {
   "cell_type": "code",
   "execution_count": 44,
   "metadata": {},
   "outputs": [],
   "source": [
    "label['image_name'] = label[['well_id','day']].apply(lambda x: get_image_name(*x),axis=1)\n",
    "label['image_name'] = 'well_'+label['condition']+'/'+label['image_name']\n",
    "label['well_label'] = label['well_id'].apply(lambda x: get_well_label(x))\n",
    "label['has_cell'] = np.int64(label['hyst2_area'] > 0)"
   ]
  },
  {
   "cell_type": "code",
   "execution_count": 45,
   "metadata": {},
   "outputs": [
    {
     "data": {
      "text/html": [
       "<div>\n",
       "<style scoped>\n",
       "    .dataframe tbody tr th:only-of-type {\n",
       "        vertical-align: middle;\n",
       "    }\n",
       "\n",
       "    .dataframe tbody tr th {\n",
       "        vertical-align: top;\n",
       "    }\n",
       "\n",
       "    .dataframe thead th {\n",
       "        text-align: right;\n",
       "    }\n",
       "</style>\n",
       "<table border=\"1\" class=\"dataframe\">\n",
       "  <thead>\n",
       "    <tr style=\"text-align: right;\">\n",
       "      <th></th>\n",
       "      <th>well_id</th>\n",
       "      <th>day</th>\n",
       "      <th>median_pixel_intensity</th>\n",
       "      <th>mw_area_shape</th>\n",
       "      <th>hyst1_area</th>\n",
       "      <th>hyst2_area</th>\n",
       "      <th>condition</th>\n",
       "      <th>image_name</th>\n",
       "      <th>well_label</th>\n",
       "      <th>has_cell</th>\n",
       "    </tr>\n",
       "  </thead>\n",
       "  <tbody>\n",
       "    <tr>\n",
       "      <th>0</th>\n",
       "      <td>0</td>\n",
       "      <td>0</td>\n",
       "      <td>125.0</td>\n",
       "      <td>7830</td>\n",
       "      <td>512</td>\n",
       "      <td>418</td>\n",
       "      <td>A1</td>\n",
       "      <td>well_A1/well0000_day00_well.png</td>\n",
       "      <td>0000</td>\n",
       "      <td>1</td>\n",
       "    </tr>\n",
       "    <tr>\n",
       "      <th>1</th>\n",
       "      <td>1</td>\n",
       "      <td>0</td>\n",
       "      <td>125.0</td>\n",
       "      <td>8265</td>\n",
       "      <td>3044</td>\n",
       "      <td>3008</td>\n",
       "      <td>A1</td>\n",
       "      <td>well_A1/well0001_day00_well.png</td>\n",
       "      <td>0001</td>\n",
       "      <td>1</td>\n",
       "    </tr>\n",
       "    <tr>\n",
       "      <th>2</th>\n",
       "      <td>2</td>\n",
       "      <td>0</td>\n",
       "      <td>127.0</td>\n",
       "      <td>8280</td>\n",
       "      <td>30</td>\n",
       "      <td>0</td>\n",
       "      <td>A1</td>\n",
       "      <td>well_A1/well0002_day00_well.png</td>\n",
       "      <td>0002</td>\n",
       "      <td>0</td>\n",
       "    </tr>\n",
       "  </tbody>\n",
       "</table>\n",
       "</div>"
      ],
      "text/plain": [
       "   well_id  day  median_pixel_intensity  mw_area_shape  hyst1_area  \\\n",
       "0        0    0                   125.0           7830         512   \n",
       "1        1    0                   125.0           8265        3044   \n",
       "2        2    0                   127.0           8280          30   \n",
       "\n",
       "   hyst2_area condition                       image_name well_label  has_cell  \n",
       "0         418        A1  well_A1/well0000_day00_well.png       0000         1  \n",
       "1        3008        A1  well_A1/well0001_day00_well.png       0001         1  \n",
       "2           0        A1  well_A1/well0002_day00_well.png       0002         0  "
      ]
     },
     "execution_count": 45,
     "metadata": {},
     "output_type": "execute_result"
    }
   ],
   "source": [
    "label.head(3)"
   ]
  },
  {
   "cell_type": "code",
   "execution_count": 46,
   "metadata": {},
   "outputs": [
    {
     "data": {
      "text/plain": [
       "(246263, 10)"
      ]
     },
     "execution_count": 46,
     "metadata": {},
     "output_type": "execute_result"
    }
   ],
   "source": [
    "label.shape"
   ]
  },
  {
   "cell_type": "code",
   "execution_count": 47,
   "metadata": {},
   "outputs": [],
   "source": [
    "corrected_labels = label.query(\"mw_area_shape < 32000\")"
   ]
  },
  {
   "cell_type": "code",
   "execution_count": 48,
   "metadata": {},
   "outputs": [
    {
     "data": {
      "text/plain": [
       "(234814, 10)"
      ]
     },
     "execution_count": 48,
     "metadata": {},
     "output_type": "execute_result"
    }
   ],
   "source": [
    "corrected_labels.shape"
   ]
  },
  {
   "cell_type": "code",
   "execution_count": 49,
   "metadata": {},
   "outputs": [],
   "source": [
    "def get_day_description(corrected_labels,day):\n",
    "    df = corrected_labels.query(\"day == %d\"%day)[['condition','well_id','day','well_label','image_name','has_cell']]\n",
    "    day_suffix = '_' + str(day)\n",
    "    df = df.rename(columns={'day':'day'+day_suffix, 'has_cell':'has_cell'+day_suffix,'image_name':'image_name'+day_suffix})\n",
    "    return df"
   ]
  },
  {
   "cell_type": "code",
   "execution_count": 50,
   "metadata": {},
   "outputs": [],
   "source": [
    "# day2wells = get_day_description(corrected_labels,2)\n",
    "# day8wells = get_day_description(corrected_labels,8)"
   ]
  },
  {
   "cell_type": "code",
   "execution_count": 51,
   "metadata": {},
   "outputs": [],
   "source": [
    "# day2wells.shape,day8wells.shape"
   ]
  },
  {
   "cell_type": "code",
   "execution_count": 52,
   "metadata": {},
   "outputs": [],
   "source": [
    "# day2wells.merge(day8wells,on=['well_id','well_label','condition']).shape"
   ]
  },
  {
   "cell_type": "code",
   "execution_count": 53,
   "metadata": {},
   "outputs": [],
   "source": [
    "prev = get_day_description(corrected_labels,0)\n",
    "for day in range(1,14):\n",
    "    #print(day)\n",
    "    curr = get_day_description(corrected_labels,day)\n",
    "    #print(curr.shape[0])\n",
    "    prev = prev.merge(curr,on=['well_id','well_label','condition'])"
   ]
  },
  {
   "cell_type": "code",
   "execution_count": 54,
   "metadata": {},
   "outputs": [
    {
     "data": {
      "text/plain": [
       "(12621, 45)"
      ]
     },
     "execution_count": 54,
     "metadata": {},
     "output_type": "execute_result"
    }
   ],
   "source": [
    "prev.shape"
   ]
  },
  {
   "cell_type": "code",
   "execution_count": null,
   "metadata": {},
   "outputs": [],
   "source": []
  },
  {
   "cell_type": "code",
   "execution_count": 55,
   "metadata": {},
   "outputs": [],
   "source": [
    "merged_days = prev.copy()"
   ]
  },
  {
   "cell_type": "code",
   "execution_count": 56,
   "metadata": {},
   "outputs": [],
   "source": [
    "#shuffle dataframe\n",
    "merged_days = merged_days.sample(frac=1).reset_index(drop=True)"
   ]
  },
  {
   "cell_type": "code",
   "execution_count": 57,
   "metadata": {},
   "outputs": [],
   "source": [
    "train,validation,test = np.split(merged_days, [int(.8 * len(merged_days)), int(.9 * len(merged_days))])"
   ]
  },
  {
   "cell_type": "code",
   "execution_count": 58,
   "metadata": {},
   "outputs": [
    {
     "data": {
      "text/plain": [
       "((10096, 45), (1262, 45), (1263, 45))"
      ]
     },
     "execution_count": 58,
     "metadata": {},
     "output_type": "execute_result"
    }
   ],
   "source": [
    "train.shape,validation.shape,test.shape"
   ]
  },
  {
   "cell_type": "code",
   "execution_count": 59,
   "metadata": {},
   "outputs": [
    {
     "data": {
      "text/html": [
       "<div>\n",
       "<style scoped>\n",
       "    .dataframe tbody tr th:only-of-type {\n",
       "        vertical-align: middle;\n",
       "    }\n",
       "\n",
       "    .dataframe tbody tr th {\n",
       "        vertical-align: top;\n",
       "    }\n",
       "\n",
       "    .dataframe thead th {\n",
       "        text-align: right;\n",
       "    }\n",
       "</style>\n",
       "<table border=\"1\" class=\"dataframe\">\n",
       "  <thead>\n",
       "    <tr style=\"text-align: right;\">\n",
       "      <th></th>\n",
       "      <th>condition</th>\n",
       "      <th>well_id</th>\n",
       "      <th>day_0</th>\n",
       "      <th>well_label</th>\n",
       "      <th>image_name_0</th>\n",
       "      <th>has_cell_0</th>\n",
       "      <th>day_1</th>\n",
       "      <th>image_name_1</th>\n",
       "      <th>has_cell_1</th>\n",
       "      <th>day_2</th>\n",
       "      <th>...</th>\n",
       "      <th>has_cell_10</th>\n",
       "      <th>day_11</th>\n",
       "      <th>image_name_11</th>\n",
       "      <th>has_cell_11</th>\n",
       "      <th>day_12</th>\n",
       "      <th>image_name_12</th>\n",
       "      <th>has_cell_12</th>\n",
       "      <th>day_13</th>\n",
       "      <th>image_name_13</th>\n",
       "      <th>has_cell_13</th>\n",
       "    </tr>\n",
       "  </thead>\n",
       "  <tbody>\n",
       "    <tr>\n",
       "      <th>0</th>\n",
       "      <td>A3</td>\n",
       "      <td>1381</td>\n",
       "      <td>0</td>\n",
       "      <td>1381</td>\n",
       "      <td>well_A3/well1381_day00_well.png</td>\n",
       "      <td>0</td>\n",
       "      <td>1</td>\n",
       "      <td>well_A3/well1381_day01_well.png</td>\n",
       "      <td>0</td>\n",
       "      <td>2</td>\n",
       "      <td>...</td>\n",
       "      <td>1</td>\n",
       "      <td>11</td>\n",
       "      <td>well_A3/well1381_day11_well.png</td>\n",
       "      <td>1</td>\n",
       "      <td>12</td>\n",
       "      <td>well_A3/well1381_day12_well.png</td>\n",
       "      <td>1</td>\n",
       "      <td>13</td>\n",
       "      <td>well_A3/well1381_day13_well.png</td>\n",
       "      <td>1</td>\n",
       "    </tr>\n",
       "    <tr>\n",
       "      <th>1</th>\n",
       "      <td>A1</td>\n",
       "      <td>2709</td>\n",
       "      <td>0</td>\n",
       "      <td>2709</td>\n",
       "      <td>well_A1/well2709_day00_well.png</td>\n",
       "      <td>1</td>\n",
       "      <td>1</td>\n",
       "      <td>well_A1/well2709_day01_well.png</td>\n",
       "      <td>0</td>\n",
       "      <td>2</td>\n",
       "      <td>...</td>\n",
       "      <td>0</td>\n",
       "      <td>11</td>\n",
       "      <td>well_A1/well2709_day11_well.png</td>\n",
       "      <td>0</td>\n",
       "      <td>12</td>\n",
       "      <td>well_A1/well2709_day12_well.png</td>\n",
       "      <td>0</td>\n",
       "      <td>13</td>\n",
       "      <td>well_A1/well2709_day13_well.png</td>\n",
       "      <td>0</td>\n",
       "    </tr>\n",
       "    <tr>\n",
       "      <th>2</th>\n",
       "      <td>A1</td>\n",
       "      <td>387</td>\n",
       "      <td>0</td>\n",
       "      <td>0387</td>\n",
       "      <td>well_A1/well0387_day00_well.png</td>\n",
       "      <td>0</td>\n",
       "      <td>1</td>\n",
       "      <td>well_A1/well0387_day01_well.png</td>\n",
       "      <td>0</td>\n",
       "      <td>2</td>\n",
       "      <td>...</td>\n",
       "      <td>0</td>\n",
       "      <td>11</td>\n",
       "      <td>well_A1/well0387_day11_well.png</td>\n",
       "      <td>0</td>\n",
       "      <td>12</td>\n",
       "      <td>well_A1/well0387_day12_well.png</td>\n",
       "      <td>0</td>\n",
       "      <td>13</td>\n",
       "      <td>well_A1/well0387_day13_well.png</td>\n",
       "      <td>1</td>\n",
       "    </tr>\n",
       "    <tr>\n",
       "      <th>3</th>\n",
       "      <td>A2</td>\n",
       "      <td>1750</td>\n",
       "      <td>0</td>\n",
       "      <td>1750</td>\n",
       "      <td>well_A2/well1750_day00_well.png</td>\n",
       "      <td>1</td>\n",
       "      <td>1</td>\n",
       "      <td>well_A2/well1750_day01_well.png</td>\n",
       "      <td>1</td>\n",
       "      <td>2</td>\n",
       "      <td>...</td>\n",
       "      <td>1</td>\n",
       "      <td>11</td>\n",
       "      <td>well_A2/well1750_day11_well.png</td>\n",
       "      <td>1</td>\n",
       "      <td>12</td>\n",
       "      <td>well_A2/well1750_day12_well.png</td>\n",
       "      <td>1</td>\n",
       "      <td>13</td>\n",
       "      <td>well_A2/well1750_day13_well.png</td>\n",
       "      <td>1</td>\n",
       "    </tr>\n",
       "  </tbody>\n",
       "</table>\n",
       "<p>4 rows × 45 columns</p>\n",
       "</div>"
      ],
      "text/plain": [
       "  condition  well_id  day_0 well_label                     image_name_0  \\\n",
       "0        A3     1381      0       1381  well_A3/well1381_day00_well.png   \n",
       "1        A1     2709      0       2709  well_A1/well2709_day00_well.png   \n",
       "2        A1      387      0       0387  well_A1/well0387_day00_well.png   \n",
       "3        A2     1750      0       1750  well_A2/well1750_day00_well.png   \n",
       "\n",
       "   has_cell_0  day_1                     image_name_1  has_cell_1  day_2  ...  \\\n",
       "0           0      1  well_A3/well1381_day01_well.png           0      2  ...   \n",
       "1           1      1  well_A1/well2709_day01_well.png           0      2  ...   \n",
       "2           0      1  well_A1/well0387_day01_well.png           0      2  ...   \n",
       "3           1      1  well_A2/well1750_day01_well.png           1      2  ...   \n",
       "\n",
       "  has_cell_10  day_11                    image_name_11 has_cell_11  day_12  \\\n",
       "0           1      11  well_A3/well1381_day11_well.png           1      12   \n",
       "1           0      11  well_A1/well2709_day11_well.png           0      12   \n",
       "2           0      11  well_A1/well0387_day11_well.png           0      12   \n",
       "3           1      11  well_A2/well1750_day11_well.png           1      12   \n",
       "\n",
       "                     image_name_12 has_cell_12  day_13  \\\n",
       "0  well_A3/well1381_day12_well.png           1      13   \n",
       "1  well_A1/well2709_day12_well.png           0      13   \n",
       "2  well_A1/well0387_day12_well.png           0      13   \n",
       "3  well_A2/well1750_day12_well.png           1      13   \n",
       "\n",
       "                     image_name_13 has_cell_13  \n",
       "0  well_A3/well1381_day13_well.png           1  \n",
       "1  well_A1/well2709_day13_well.png           0  \n",
       "2  well_A1/well0387_day13_well.png           1  \n",
       "3  well_A2/well1750_day13_well.png           1  \n",
       "\n",
       "[4 rows x 45 columns]"
      ]
     },
     "execution_count": 59,
     "metadata": {},
     "output_type": "execute_result"
    }
   ],
   "source": [
    "train.head(4)"
   ]
  },
  {
   "cell_type": "code",
   "execution_count": 68,
   "metadata": {},
   "outputs": [],
   "source": [
    "prev.to_csv(\"../data_description/A1_A2_A3_A4_C1_filtered_all_v2.csv\")\n",
    "train.to_csv(\"../data_description/A1_A2_A3_A4_C1_filtered_train_v2.csv\")\n",
    "validation.to_csv(\"../data_description/A1_A2_A3_A4_C1_filtered_validation_v2.csv\")\n",
    "test.to_csv(\"../data_description/A1_A2_A3_A4_C1_filtered_test_v2.csv\")"
   ]
  },
  {
   "cell_type": "markdown",
   "metadata": {},
   "source": [
    "# normalization"
   ]
  },
  {
   "cell_type": "code",
   "execution_count": 61,
   "metadata": {},
   "outputs": [],
   "source": [
    "# def update_mean(x, x_bar_prev, n):\n",
    "#   return x_bar_prev + (x - x_bar_prev)/n\n",
    "\n",
    "# def update_sum_square_diff(x, ssd_prev, x_bar_prev, x_bar_curr):\n",
    "#   return ssd_prev + (x - x_bar_prev)*(x - x_bar_curr)"
   ]
  },
  {
   "cell_type": "code",
   "execution_count": 62,
   "metadata": {},
   "outputs": [],
   "source": [
    "# def get_mean_std(image_names,path = label_path):\n",
    "#     #image_names = merged_days['image_name_1']\n",
    "#     x_bar_curr = 0.0\n",
    "#     x_bar_prev = 0.0\n",
    "#     ssd_curr = 0.0\n",
    "#     n = 0\n",
    "#     for index in range(len(image_names)):\n",
    "#         img_name = image_names[index]\n",
    "#         img_loc = os.path.join(path, img_name)\n",
    "#       # skimage.io.imread returns a numpy array\n",
    "#         image = io.imread(img_loc)\n",
    "#       # convert to grey scale\n",
    "#         image = color.rgb2gray(image)\n",
    "#         for i, x in np.ndenumerate(image):\n",
    "#             n = n + 1\n",
    "#             x_bar_prev = x_bar_curr\n",
    "#             x_bar_curr = update_mean(x, x_bar_prev, n)\n",
    "#             ssd_curr = update_sum_square_diff(x, ssd_curr, x_bar_prev, x_bar_curr)\n",
    "#     return x_bar_curr, np.sqrt(ssd_curr/n)"
   ]
  },
  {
   "cell_type": "code",
   "execution_count": 64,
   "metadata": {},
   "outputs": [],
   "source": [
    "def get_mean_std(image_names,path = label_path):\n",
    "    all_images = []\n",
    "    for index in range(len(image_names)):\n",
    "        img_name = image_names[index]\n",
    "        img_loc = os.path.join(path, img_name)\n",
    "      # skimage.io.imread returns a numpy array\n",
    "        image = io.imread(img_loc)\n",
    "      # convert to grey scale\n",
    "        image = color.rgb2gray(image)\n",
    "        all_images.append(image)\n",
    "    all_images = np.array(all_images)\n",
    "    mean = np.mean(all_images)\n",
    "    std = np.std(all_images)\n",
    "    return mean, std"
   ]
  },
  {
   "cell_type": "code",
   "execution_count": 25,
   "metadata": {},
   "outputs": [],
   "source": [
    "day2_mean, day2_std = get_mean_std(merged_days['image_name_2'])"
   ]
  },
  {
   "cell_type": "code",
   "execution_count": 26,
   "metadata": {},
   "outputs": [
    {
     "data": {
      "text/plain": [
       "(0.4942364496332139, 0.16092630656380771)"
      ]
     },
     "execution_count": 26,
     "metadata": {},
     "output_type": "execute_result"
    }
   ],
   "source": [
    "day2_mean, day2_std"
   ]
  },
  {
   "cell_type": "code",
   "execution_count": 63,
   "metadata": {},
   "outputs": [
    {
     "data": {
      "text/plain": [
       "(10096, 45)"
      ]
     },
     "execution_count": 63,
     "metadata": {},
     "output_type": "execute_result"
    }
   ],
   "source": [
    "train.shape"
   ]
  },
  {
   "cell_type": "code",
   "execution_count": 65,
   "metadata": {},
   "outputs": [],
   "source": [
    "def get_mean_std_for_all_days(df = train, max_day_range=14):\n",
    "    mean_sd_dict = {}\n",
    "    for day in range(max_day_range):\n",
    "        mean, std = get_mean_std(df['image_name_%d'%day])\n",
    "        mean_sd_dict[day] = [mean, std]\n",
    "    return mean_sd_dict"
   ]
  },
  {
   "cell_type": "code",
   "execution_count": 67,
   "metadata": {},
   "outputs": [],
   "source": [
    "mean_sd_dict = get_mean_std_for_all_days()"
   ]
  },
  {
   "cell_type": "code",
   "execution_count": 31,
   "metadata": {},
   "outputs": [
    {
     "data": {
      "text/plain": [
       "{0: [0.5069736899804134, 0.16161648095626624],\n",
       " 1: [0.4983455891095547, 0.1620543794576955],\n",
       " 2: [0.49439774802337344, 0.16087996922691195],\n",
       " 3: [0.5036597384500131, 0.16115670884655703],\n",
       " 4: [0.49723225904138163, 0.1613796328736843],\n",
       " 5: [0.5013496452715945, 0.1605951051365687],\n",
       " 6: [0.5015181095760308, 0.15958463728030045],\n",
       " 7: [0.5141906038585404, 0.16129666771679602],\n",
       " 8: [0.5177020917650417, 0.15714445907773483],\n",
       " 9: [0.49718508281373336, 0.16299933786858656],\n",
       " 10: [0.4962874322121036, 0.15880961979223254],\n",
       " 11: [0.5179651916522097, 0.1604524823191784],\n",
       " 12: [0.4987612682320938, 0.15931988930159605],\n",
       " 13: [0.5045039581447099, 0.15828551745396297]}"
      ]
     },
     "execution_count": 31,
     "metadata": {},
     "output_type": "execute_result"
    }
   ],
   "source": [
    "mean_sd_dict"
   ]
  },
  {
   "cell_type": "code",
   "execution_count": 33,
   "metadata": {},
   "outputs": [],
   "source": [
    "mean_sd_df = pd.DataFrame.from_dict(mean_sd_dict,orient='index',columns=['mean','std'])"
   ]
  },
  {
   "cell_type": "code",
   "execution_count": 35,
   "metadata": {},
   "outputs": [
    {
     "data": {
      "text/html": [
       "<div>\n",
       "<style scoped>\n",
       "    .dataframe tbody tr th:only-of-type {\n",
       "        vertical-align: middle;\n",
       "    }\n",
       "\n",
       "    .dataframe tbody tr th {\n",
       "        vertical-align: top;\n",
       "    }\n",
       "\n",
       "    .dataframe thead th {\n",
       "        text-align: right;\n",
       "    }\n",
       "</style>\n",
       "<table border=\"1\" class=\"dataframe\">\n",
       "  <thead>\n",
       "    <tr style=\"text-align: right;\">\n",
       "      <th></th>\n",
       "      <th>mean</th>\n",
       "      <th>std</th>\n",
       "    </tr>\n",
       "  </thead>\n",
       "  <tbody>\n",
       "    <tr>\n",
       "      <th>0</th>\n",
       "      <td>0.506974</td>\n",
       "      <td>0.161616</td>\n",
       "    </tr>\n",
       "    <tr>\n",
       "      <th>1</th>\n",
       "      <td>0.498346</td>\n",
       "      <td>0.162054</td>\n",
       "    </tr>\n",
       "    <tr>\n",
       "      <th>2</th>\n",
       "      <td>0.494398</td>\n",
       "      <td>0.160880</td>\n",
       "    </tr>\n",
       "    <tr>\n",
       "      <th>3</th>\n",
       "      <td>0.503660</td>\n",
       "      <td>0.161157</td>\n",
       "    </tr>\n",
       "    <tr>\n",
       "      <th>4</th>\n",
       "      <td>0.497232</td>\n",
       "      <td>0.161380</td>\n",
       "    </tr>\n",
       "    <tr>\n",
       "      <th>5</th>\n",
       "      <td>0.501350</td>\n",
       "      <td>0.160595</td>\n",
       "    </tr>\n",
       "    <tr>\n",
       "      <th>6</th>\n",
       "      <td>0.501518</td>\n",
       "      <td>0.159585</td>\n",
       "    </tr>\n",
       "    <tr>\n",
       "      <th>7</th>\n",
       "      <td>0.514191</td>\n",
       "      <td>0.161297</td>\n",
       "    </tr>\n",
       "    <tr>\n",
       "      <th>8</th>\n",
       "      <td>0.517702</td>\n",
       "      <td>0.157144</td>\n",
       "    </tr>\n",
       "    <tr>\n",
       "      <th>9</th>\n",
       "      <td>0.497185</td>\n",
       "      <td>0.162999</td>\n",
       "    </tr>\n",
       "    <tr>\n",
       "      <th>10</th>\n",
       "      <td>0.496287</td>\n",
       "      <td>0.158810</td>\n",
       "    </tr>\n",
       "    <tr>\n",
       "      <th>11</th>\n",
       "      <td>0.517965</td>\n",
       "      <td>0.160452</td>\n",
       "    </tr>\n",
       "    <tr>\n",
       "      <th>12</th>\n",
       "      <td>0.498761</td>\n",
       "      <td>0.159320</td>\n",
       "    </tr>\n",
       "    <tr>\n",
       "      <th>13</th>\n",
       "      <td>0.504504</td>\n",
       "      <td>0.158286</td>\n",
       "    </tr>\n",
       "  </tbody>\n",
       "</table>\n",
       "</div>"
      ],
      "text/plain": [
       "        mean       std\n",
       "0   0.506974  0.161616\n",
       "1   0.498346  0.162054\n",
       "2   0.494398  0.160880\n",
       "3   0.503660  0.161157\n",
       "4   0.497232  0.161380\n",
       "5   0.501350  0.160595\n",
       "6   0.501518  0.159585\n",
       "7   0.514191  0.161297\n",
       "8   0.517702  0.157144\n",
       "9   0.497185  0.162999\n",
       "10  0.496287  0.158810\n",
       "11  0.517965  0.160452\n",
       "12  0.498761  0.159320\n",
       "13  0.504504  0.158286"
      ]
     },
     "execution_count": 35,
     "metadata": {},
     "output_type": "execute_result"
    }
   ],
   "source": [
    "mean_sd_df"
   ]
  },
  {
   "cell_type": "code",
   "execution_count": 34,
   "metadata": {},
   "outputs": [],
   "source": [
    "mean_sd_df.to_csv(\"../data_description/A1_A2_C1_mean_std.csv\")"
   ]
  },
  {
   "cell_type": "code",
   "execution_count": null,
   "metadata": {},
   "outputs": [],
   "source": []
  }
 ],
 "metadata": {
  "kernelspec": {
   "display_name": "Python 3",
   "language": "python",
   "name": "python3"
  },
  "language_info": {
   "codemirror_mode": {
    "name": "ipython",
    "version": 3
   },
   "file_extension": ".py",
   "mimetype": "text/x-python",
   "name": "python",
   "nbconvert_exporter": "python",
   "pygments_lexer": "ipython3",
   "version": "3.7.3"
  }
 },
 "nbformat": 4,
 "nbformat_minor": 2
}
