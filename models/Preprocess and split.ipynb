{
 "cells": [
  {
   "cell_type": "code",
   "execution_count": 2,
   "metadata": {},
   "outputs": [],
   "source": [
    "from skimage import io, transform, color\n",
    "import torch\n",
    "import torch.nn as nn\n",
    "import torch.optim as optim\n",
    "import torch.nn.functional as F\n",
    "from torch.utils.data import DataLoader\n",
    "from torch.utils.data import sampler\n",
    "import torchvision.datasets as dset\n",
    "import torchvision.transforms as T\n",
    "from dataLoader import OrganoidDataset\n",
    "from torch.utils import data\n",
    "import numpy as np\n",
    "import sys\n",
    "import pandas as pd\n",
    "from imageio import imread\n",
    "from PIL import Image\n",
    "import os\n",
    "\n",
    "from dataLoader import OrganoidDataset\n",
    "#from conv_model import SimpleConvNet\n",
    "import matplotlib.pyplot as plt\n",
    "\n",
    "\n",
    "%matplotlib inline\n",
    "plt.rcParams['figure.figsize'] = (20.0, 10.0) # set default size of plots\n",
    "plt.rcParams['image.interpolation'] = 'nearest'\n",
    "plt.rcParams['image.cmap'] = 'gray'\n",
    "plt.rcParams['pdf.fonttype'] = 42\n",
    "plt.rcParams['ps.fonttype'] = 42\n",
    "# for auto-reloading external modules\n",
    "# see http://stackoverflow.com/questions/1907993/autoreload-of-modules-in-ipython\n",
    "%load_ext autoreload\n",
    "%autoreload 2"
   ]
  },
  {
   "cell_type": "code",
   "execution_count": 3,
   "metadata": {},
   "outputs": [],
   "source": [
    "figure_path = '../milestoneReport/figures/'\n",
    "path = '../data/CS231n_Tim_Shan_example_data/'\n",
    "label_path = '../data/'"
   ]
  },
  {
   "cell_type": "code",
   "execution_count": 5,
   "metadata": {},
   "outputs": [],
   "source": [
    "wellA1 = pd.read_csv('../data/well_summary_A1_e0891BSA_all.csv')\n",
    "wellA2 = pd.read_csv(label_path+'well_summary_A2.csv')\n",
    "wellA3 = pd.read_csv(label_path+'well_summary_A3.csv')\n",
    "wellA4 = pd.read_csv(label_path+'well_summary_A4.csv')\n",
    "wellC1 = pd.read_csv(label_path+'well_summary_C1.csv')"
   ]
  },
  {
   "cell_type": "code",
   "execution_count": 6,
   "metadata": {},
   "outputs": [],
   "source": [
    "wellA1['condition'] = 'A1'\n",
    "wellA2['condition'] = 'A2'\n",
    "wellA3['condition'] = 'A3'\n",
    "wellA4['condition'] = 'A4'\n",
    "wellC1['condition'] = 'C1'"
   ]
  },
  {
   "cell_type": "code",
   "execution_count": 8,
   "metadata": {},
   "outputs": [
    {
     "data": {
      "text/plain": [
       "((67200, 7), (50400, 7), (10796, 7), (33600, 7), (44800, 7))"
      ]
     },
     "execution_count": 8,
     "metadata": {},
     "output_type": "execute_result"
    }
   ],
   "source": [
    "wellA1.shape, wellA2.shape,wellA3.shape,wellA4.shape,wellC1.shape"
   ]
  },
  {
   "cell_type": "code",
   "execution_count": 10,
   "metadata": {},
   "outputs": [
    {
     "data": {
      "text/html": [
       "<div>\n",
       "<style scoped>\n",
       "    .dataframe tbody tr th:only-of-type {\n",
       "        vertical-align: middle;\n",
       "    }\n",
       "\n",
       "    .dataframe tbody tr th {\n",
       "        vertical-align: top;\n",
       "    }\n",
       "\n",
       "    .dataframe thead th {\n",
       "        text-align: right;\n",
       "    }\n",
       "</style>\n",
       "<table border=\"1\" class=\"dataframe\">\n",
       "  <thead>\n",
       "    <tr style=\"text-align: right;\">\n",
       "      <th></th>\n",
       "      <th>well id</th>\n",
       "      <th>day</th>\n",
       "      <th>median pixel intensity</th>\n",
       "      <th>mw_area shape</th>\n",
       "      <th>hyst1 area</th>\n",
       "      <th>hyst2 area</th>\n",
       "      <th>condition</th>\n",
       "    </tr>\n",
       "  </thead>\n",
       "  <tbody>\n",
       "    <tr>\n",
       "      <th>0</th>\n",
       "      <td>0</td>\n",
       "      <td>0</td>\n",
       "      <td>125.0</td>\n",
       "      <td>7830</td>\n",
       "      <td>512</td>\n",
       "      <td>418</td>\n",
       "      <td>A1</td>\n",
       "    </tr>\n",
       "    <tr>\n",
       "      <th>1</th>\n",
       "      <td>1</td>\n",
       "      <td>0</td>\n",
       "      <td>125.0</td>\n",
       "      <td>8265</td>\n",
       "      <td>3044</td>\n",
       "      <td>3008</td>\n",
       "      <td>A1</td>\n",
       "    </tr>\n",
       "  </tbody>\n",
       "</table>\n",
       "</div>"
      ],
      "text/plain": [
       "   well id  day  median pixel intensity  mw_area shape  hyst1 area  \\\n",
       "0        0    0                   125.0           7830         512   \n",
       "1        1    0                   125.0           8265        3044   \n",
       "\n",
       "   hyst2 area condition  \n",
       "0         418        A1  \n",
       "1        3008        A1  "
      ]
     },
     "execution_count": 10,
     "metadata": {},
     "output_type": "execute_result"
    }
   ],
   "source": [
    "wellA1.head(2)"
   ]
  },
  {
   "cell_type": "code",
   "execution_count": 9,
   "metadata": {},
   "outputs": [
    {
     "data": {
      "text/html": [
       "<div>\n",
       "<style scoped>\n",
       "    .dataframe tbody tr th:only-of-type {\n",
       "        vertical-align: middle;\n",
       "    }\n",
       "\n",
       "    .dataframe tbody tr th {\n",
       "        vertical-align: top;\n",
       "    }\n",
       "\n",
       "    .dataframe thead th {\n",
       "        text-align: right;\n",
       "    }\n",
       "</style>\n",
       "<table border=\"1\" class=\"dataframe\">\n",
       "  <thead>\n",
       "    <tr style=\"text-align: right;\">\n",
       "      <th></th>\n",
       "      <th>well id</th>\n",
       "      <th>day</th>\n",
       "      <th>median pixel intensity</th>\n",
       "      <th>mw_area shape</th>\n",
       "      <th>hyst1 area</th>\n",
       "      <th>hyst2 area</th>\n",
       "      <th>condition</th>\n",
       "    </tr>\n",
       "  </thead>\n",
       "  <tbody>\n",
       "    <tr>\n",
       "      <th>0</th>\n",
       "      <td>0</td>\n",
       "      <td>0</td>\n",
       "      <td>130.0</td>\n",
       "      <td>32396</td>\n",
       "      <td>11222</td>\n",
       "      <td>10702</td>\n",
       "      <td>A2</td>\n",
       "    </tr>\n",
       "    <tr>\n",
       "      <th>1</th>\n",
       "      <td>1</td>\n",
       "      <td>0</td>\n",
       "      <td>131.0</td>\n",
       "      <td>9500</td>\n",
       "      <td>43</td>\n",
       "      <td>0</td>\n",
       "      <td>A2</td>\n",
       "    </tr>\n",
       "  </tbody>\n",
       "</table>\n",
       "</div>"
      ],
      "text/plain": [
       "   well id  day  median pixel intensity  mw_area shape  hyst1 area  \\\n",
       "0        0    0                   130.0          32396       11222   \n",
       "1        1    0                   131.0           9500          43   \n",
       "\n",
       "   hyst2 area condition  \n",
       "0       10702        A2  \n",
       "1           0        A2  "
      ]
     },
     "execution_count": 9,
     "metadata": {},
     "output_type": "execute_result"
    }
   ],
   "source": [
    "wellA2.head(2)"
   ]
  },
  {
   "cell_type": "code",
   "execution_count": 7,
   "metadata": {},
   "outputs": [
    {
     "data": {
      "text/html": [
       "<div>\n",
       "<style scoped>\n",
       "    .dataframe tbody tr th:only-of-type {\n",
       "        vertical-align: middle;\n",
       "    }\n",
       "\n",
       "    .dataframe tbody tr th {\n",
       "        vertical-align: top;\n",
       "    }\n",
       "\n",
       "    .dataframe thead th {\n",
       "        text-align: right;\n",
       "    }\n",
       "</style>\n",
       "<table border=\"1\" class=\"dataframe\">\n",
       "  <thead>\n",
       "    <tr style=\"text-align: right;\">\n",
       "      <th></th>\n",
       "      <th>well id</th>\n",
       "      <th>day</th>\n",
       "      <th>median pixel intensity</th>\n",
       "      <th>mw_area shape</th>\n",
       "      <th>hyst1 area</th>\n",
       "      <th>hyst2 area</th>\n",
       "      <th>condition</th>\n",
       "    </tr>\n",
       "  </thead>\n",
       "  <tbody>\n",
       "    <tr>\n",
       "      <th>0</th>\n",
       "      <td>0</td>\n",
       "      <td>0</td>\n",
       "      <td>117.0</td>\n",
       "      <td>7224</td>\n",
       "      <td>139</td>\n",
       "      <td>141</td>\n",
       "      <td>C1</td>\n",
       "    </tr>\n",
       "    <tr>\n",
       "      <th>1</th>\n",
       "      <td>1</td>\n",
       "      <td>0</td>\n",
       "      <td>118.0</td>\n",
       "      <td>7308</td>\n",
       "      <td>422</td>\n",
       "      <td>388</td>\n",
       "      <td>C1</td>\n",
       "    </tr>\n",
       "  </tbody>\n",
       "</table>\n",
       "</div>"
      ],
      "text/plain": [
       "   well id  day  median pixel intensity  mw_area shape  hyst1 area  \\\n",
       "0        0    0                   117.0           7224         139   \n",
       "1        1    0                   118.0           7308         422   \n",
       "\n",
       "   hyst2 area condition  \n",
       "0         141        C1  \n",
       "1         388        C1  "
      ]
     },
     "execution_count": 7,
     "metadata": {},
     "output_type": "execute_result"
    }
   ],
   "source": [
    "wellC1.head(2)"
   ]
  },
  {
   "cell_type": "code",
   "execution_count": 8,
   "metadata": {},
   "outputs": [
    {
     "data": {
      "text/plain": [
       "9971.142857142857"
      ]
     },
     "execution_count": 8,
     "metadata": {},
     "output_type": "execute_result"
    }
   ],
   "source": [
    "139596/14.0"
   ]
  },
  {
   "cell_type": "code",
   "execution_count": 11,
   "metadata": {},
   "outputs": [
    {
     "data": {
      "text/plain": [
       "day\n",
       "0     4800\n",
       "1     4800\n",
       "2     4800\n",
       "3     4800\n",
       "4     4800\n",
       "5     4800\n",
       "6     4800\n",
       "7     4800\n",
       "8     4800\n",
       "9     4800\n",
       "10    4800\n",
       "11    4800\n",
       "12    4800\n",
       "13    4800\n",
       "Name: well id, dtype: int64"
      ]
     },
     "execution_count": 11,
     "metadata": {},
     "output_type": "execute_result"
    }
   ],
   "source": [
    "wellA1.groupby(by='day')['well id'].count()"
   ]
  },
  {
   "cell_type": "code",
   "execution_count": 12,
   "metadata": {},
   "outputs": [
    {
     "data": {
      "text/plain": [
       "day\n",
       "0     3600\n",
       "1     3600\n",
       "2     3600\n",
       "3     3600\n",
       "4     3600\n",
       "5     3600\n",
       "6     3600\n",
       "7     3600\n",
       "8     3600\n",
       "9     3600\n",
       "10    3600\n",
       "11    3600\n",
       "12    3600\n",
       "13    3600\n",
       "Name: well id, dtype: int64"
      ]
     },
     "execution_count": 12,
     "metadata": {},
     "output_type": "execute_result"
    }
   ],
   "source": [
    "wellA2.groupby(by='day')['well id'].count()"
   ]
  },
  {
   "cell_type": "code",
   "execution_count": 9,
   "metadata": {},
   "outputs": [
    {
     "data": {
      "text/plain": [
       "day\n",
       "3    3600\n",
       "5    3600\n",
       "6    3596\n",
       "Name: well id, dtype: int64"
      ]
     },
     "execution_count": 9,
     "metadata": {},
     "output_type": "execute_result"
    }
   ],
   "source": [
    "wellA3.groupby(by='day')['well id'].count()"
   ]
  },
  {
   "cell_type": "code",
   "execution_count": 10,
   "metadata": {},
   "outputs": [
    {
     "data": {
      "text/plain": [
       "day\n",
       "0     3200\n",
       "1     3200\n",
       "2     3200\n",
       "3     3200\n",
       "4     3200\n",
       "5     3200\n",
       "6     3200\n",
       "7     3200\n",
       "8     3200\n",
       "9     3200\n",
       "10    3200\n",
       "11    3200\n",
       "12    3200\n",
       "13    3200\n",
       "Name: well id, dtype: int64"
      ]
     },
     "execution_count": 10,
     "metadata": {},
     "output_type": "execute_result"
    }
   ],
   "source": [
    "wellC1.groupby(by='day')['well id'].count()"
   ]
  },
  {
   "cell_type": "code",
   "execution_count": 11,
   "metadata": {},
   "outputs": [
    {
     "data": {
      "text/plain": [
       "day\n",
       "0     11118030\n",
       "1      9515283\n",
       "2      9699242\n",
       "3     10188886\n",
       "4      9387332\n",
       "5     11237400\n",
       "6     10763021\n",
       "7     12244466\n",
       "8     11280029\n",
       "9     11625314\n",
       "10    12835175\n",
       "11    13009691\n",
       "12    13693762\n",
       "13    13596488\n",
       "Name: hyst2 area, dtype: int64"
      ]
     },
     "execution_count": 11,
     "metadata": {},
     "output_type": "execute_result"
    }
   ],
   "source": [
    "wellA2.groupby(by='day')['hyst2 area'].sum()"
   ]
  },
  {
   "cell_type": "code",
   "execution_count": 24,
   "metadata": {},
   "outputs": [
    {
     "data": {
      "text/plain": [
       "day\n",
       "0     1259622\n",
       "1      928593\n",
       "2      929989\n",
       "3     1128199\n",
       "4     1661649\n",
       "5     2061019\n",
       "6     1971614\n",
       "7     1753965\n",
       "8     1991609\n",
       "9     2784164\n",
       "10    2098197\n",
       "11    2164090\n",
       "12    2155446\n",
       "13    2357182\n",
       "Name: hyst2 area, dtype: int64"
      ]
     },
     "execution_count": 24,
     "metadata": {},
     "output_type": "execute_result"
    }
   ],
   "source": [
    "wellC1.groupby(by='day')['hyst2 area'].sum()"
   ]
  },
  {
   "cell_type": "code",
   "execution_count": null,
   "metadata": {},
   "outputs": [],
   "source": []
  },
  {
   "cell_type": "code",
   "execution_count": 13,
   "metadata": {},
   "outputs": [],
   "source": [
    "label = pd.concat([wellA1,wellA2,wellC1],sort=False)\n",
    "new_columns = ['well_id','day','median_pixel_intensity','mw_area_shape','hyst1_area','hyst2_area','condition']\n",
    "label.columns = new_columns"
   ]
  },
  {
   "cell_type": "code",
   "execution_count": 14,
   "metadata": {},
   "outputs": [
    {
     "data": {
      "text/html": [
       "<div>\n",
       "<style scoped>\n",
       "    .dataframe tbody tr th:only-of-type {\n",
       "        vertical-align: middle;\n",
       "    }\n",
       "\n",
       "    .dataframe tbody tr th {\n",
       "        vertical-align: top;\n",
       "    }\n",
       "\n",
       "    .dataframe thead th {\n",
       "        text-align: right;\n",
       "    }\n",
       "</style>\n",
       "<table border=\"1\" class=\"dataframe\">\n",
       "  <thead>\n",
       "    <tr style=\"text-align: right;\">\n",
       "      <th></th>\n",
       "      <th>well_id</th>\n",
       "      <th>day</th>\n",
       "      <th>median_pixel_intensity</th>\n",
       "      <th>mw_area_shape</th>\n",
       "      <th>hyst1_area</th>\n",
       "      <th>hyst2_area</th>\n",
       "      <th>condition</th>\n",
       "    </tr>\n",
       "  </thead>\n",
       "  <tbody>\n",
       "    <tr>\n",
       "      <th>0</th>\n",
       "      <td>0</td>\n",
       "      <td>0</td>\n",
       "      <td>125.0</td>\n",
       "      <td>7830</td>\n",
       "      <td>512</td>\n",
       "      <td>418</td>\n",
       "      <td>A1</td>\n",
       "    </tr>\n",
       "    <tr>\n",
       "      <th>1</th>\n",
       "      <td>1</td>\n",
       "      <td>0</td>\n",
       "      <td>125.0</td>\n",
       "      <td>8265</td>\n",
       "      <td>3044</td>\n",
       "      <td>3008</td>\n",
       "      <td>A1</td>\n",
       "    </tr>\n",
       "  </tbody>\n",
       "</table>\n",
       "</div>"
      ],
      "text/plain": [
       "   well_id  day  median_pixel_intensity  mw_area_shape  hyst1_area  \\\n",
       "0        0    0                   125.0           7830         512   \n",
       "1        1    0                   125.0           8265        3044   \n",
       "\n",
       "   hyst2_area condition  \n",
       "0         418        A1  \n",
       "1        3008        A1  "
      ]
     },
     "execution_count": 14,
     "metadata": {},
     "output_type": "execute_result"
    }
   ],
   "source": [
    "label.head(2)"
   ]
  },
  {
   "cell_type": "code",
   "execution_count": 15,
   "metadata": {},
   "outputs": [],
   "source": [
    "def get_image_name(well_id,day_id):\n",
    "    image_name = 'well'+str(well_id).zfill(4)+'_day'+str(day_id).zfill(2)+'_well.png'\n",
    "    return image_name\n",
    "def get_well_label(well_id):\n",
    "    return str(well_id).zfill(4)"
   ]
  },
  {
   "cell_type": "code",
   "execution_count": 16,
   "metadata": {},
   "outputs": [],
   "source": [
    "label['image_name'] = label[['well_id','day']].apply(lambda x: get_image_name(*x),axis=1)\n",
    "label['well_label'] = label['well_id'].apply(lambda x: get_well_label(x))\n",
    "label['has_cell'] = np.int64(label['hyst2_area'] > 0)"
   ]
  },
  {
   "cell_type": "code",
   "execution_count": 17,
   "metadata": {},
   "outputs": [
    {
     "data": {
      "text/plain": [
       "(162400, 10)"
      ]
     },
     "execution_count": 17,
     "metadata": {},
     "output_type": "execute_result"
    }
   ],
   "source": [
    "label.shape"
   ]
  },
  {
   "cell_type": "code",
   "execution_count": 18,
   "metadata": {},
   "outputs": [],
   "source": [
    "corrected_labels = label.query(\"mw_area_shape < 32000\")"
   ]
  },
  {
   "cell_type": "code",
   "execution_count": 20,
   "metadata": {},
   "outputs": [
    {
     "data": {
      "text/plain": [
       "(154322, 10)"
      ]
     },
     "execution_count": 20,
     "metadata": {},
     "output_type": "execute_result"
    }
   ],
   "source": [
    "corrected_labels.shape"
   ]
  },
  {
   "cell_type": "code",
   "execution_count": 21,
   "metadata": {},
   "outputs": [],
   "source": [
    "def get_day_description(corrected_labels,day):\n",
    "    df = corrected_labels.query(\"day == %d\"%day)[['condition','well_id','day','well_label','image_name','has_cell']]\n",
    "    day_suffix = '_' + str(day)\n",
    "    df = df.rename(columns={'day':'day'+day_suffix, 'has_cell':'has_cell'+day_suffix,'image_name':'image_name'+day_suffix})\n",
    "    return df"
   ]
  },
  {
   "cell_type": "code",
   "execution_count": 22,
   "metadata": {},
   "outputs": [],
   "source": [
    "# day2wells = get_day_description(corrected_labels,2)\n",
    "# day8wells = get_day_description(corrected_labels,8)"
   ]
  },
  {
   "cell_type": "code",
   "execution_count": 23,
   "metadata": {},
   "outputs": [
    {
     "data": {
      "text/plain": [
       "((11236, 6), (11055, 6))"
      ]
     },
     "execution_count": 23,
     "metadata": {},
     "output_type": "execute_result"
    }
   ],
   "source": [
    "# day2wells.shape,day8wells.shape"
   ]
  },
  {
   "cell_type": "code",
   "execution_count": 24,
   "metadata": {},
   "outputs": [
    {
     "data": {
      "text/plain": [
       "(10809, 9)"
      ]
     },
     "execution_count": 24,
     "metadata": {},
     "output_type": "execute_result"
    }
   ],
   "source": [
    "# day2wells.merge(day8wells,on=['well_id','well_label','condition']).shape"
   ]
  },
  {
   "cell_type": "code",
   "execution_count": 25,
   "metadata": {},
   "outputs": [
    {
     "name": "stdout",
     "output_type": "stream",
     "text": [
      "1\n",
      "11247\n",
      "2\n",
      "11236\n",
      "3\n",
      "11219\n",
      "4\n",
      "11174\n",
      "5\n",
      "11126\n",
      "6\n",
      "11184\n",
      "7\n",
      "10888\n",
      "8\n",
      "11055\n",
      "9\n",
      "10970\n",
      "10\n",
      "10989\n",
      "11\n",
      "11051\n",
      "12\n",
      "11052\n",
      "13\n",
      "11101\n"
     ]
    }
   ],
   "source": [
    "prev = get_day_description(corrected_labels,0)\n",
    "for day in range(1,14):\n",
    "    print(day)\n",
    "    curr = get_day_description(corrected_labels,day)\n",
    "    print(curr.shape[0])\n",
    "    prev = prev.merge(curr,on=['well_id','well_label','condition'])"
   ]
  },
  {
   "cell_type": "code",
   "execution_count": 26,
   "metadata": {},
   "outputs": [
    {
     "data": {
      "text/plain": [
       "(8143, 45)"
      ]
     },
     "execution_count": 26,
     "metadata": {},
     "output_type": "execute_result"
    }
   ],
   "source": [
    "prev.shape"
   ]
  },
  {
   "cell_type": "code",
   "execution_count": 25,
   "metadata": {},
   "outputs": [],
   "source": []
  },
  {
   "cell_type": "code",
   "execution_count": 27,
   "metadata": {},
   "outputs": [],
   "source": [
    "merged_days = prev.copy()"
   ]
  },
  {
   "cell_type": "code",
   "execution_count": 28,
   "metadata": {},
   "outputs": [],
   "source": [
    "#shuffle dataframe\n",
    "merged_days = merged_days.sample(frac=1).reset_index(drop=True)"
   ]
  },
  {
   "cell_type": "code",
   "execution_count": 29,
   "metadata": {},
   "outputs": [],
   "source": [
    "train,validation,test = np.split(merged_days, [int(.8 * len(merged_days)), int(.9 * len(merged_days))])"
   ]
  },
  {
   "cell_type": "code",
   "execution_count": 31,
   "metadata": {},
   "outputs": [
    {
     "data": {
      "text/plain": [
       "((6514, 45), (814, 45), (815, 45))"
      ]
     },
     "execution_count": 31,
     "metadata": {},
     "output_type": "execute_result"
    }
   ],
   "source": [
    "train.shape,validation.shape,test.shape"
   ]
  },
  {
   "cell_type": "code",
   "execution_count": 34,
   "metadata": {},
   "outputs": [
    {
     "data": {
      "text/html": [
       "<div>\n",
       "<style scoped>\n",
       "    .dataframe tbody tr th:only-of-type {\n",
       "        vertical-align: middle;\n",
       "    }\n",
       "\n",
       "    .dataframe tbody tr th {\n",
       "        vertical-align: top;\n",
       "    }\n",
       "\n",
       "    .dataframe thead th {\n",
       "        text-align: right;\n",
       "    }\n",
       "</style>\n",
       "<table border=\"1\" class=\"dataframe\">\n",
       "  <thead>\n",
       "    <tr style=\"text-align: right;\">\n",
       "      <th></th>\n",
       "      <th>condition</th>\n",
       "      <th>well_id</th>\n",
       "      <th>day_0</th>\n",
       "      <th>well_label</th>\n",
       "      <th>image_name_0</th>\n",
       "      <th>has_cell_0</th>\n",
       "      <th>day_1</th>\n",
       "      <th>image_name_1</th>\n",
       "      <th>has_cell_1</th>\n",
       "      <th>day_2</th>\n",
       "      <th>...</th>\n",
       "      <th>has_cell_10</th>\n",
       "      <th>day_11</th>\n",
       "      <th>image_name_11</th>\n",
       "      <th>has_cell_11</th>\n",
       "      <th>day_12</th>\n",
       "      <th>image_name_12</th>\n",
       "      <th>has_cell_12</th>\n",
       "      <th>day_13</th>\n",
       "      <th>image_name_13</th>\n",
       "      <th>has_cell_13</th>\n",
       "    </tr>\n",
       "  </thead>\n",
       "  <tbody>\n",
       "    <tr>\n",
       "      <th>0</th>\n",
       "      <td>C1</td>\n",
       "      <td>2977</td>\n",
       "      <td>0</td>\n",
       "      <td>2977</td>\n",
       "      <td>well2977_day00_well.png</td>\n",
       "      <td>1</td>\n",
       "      <td>1</td>\n",
       "      <td>well2977_day01_well.png</td>\n",
       "      <td>0</td>\n",
       "      <td>2</td>\n",
       "      <td>...</td>\n",
       "      <td>1</td>\n",
       "      <td>11</td>\n",
       "      <td>well2977_day11_well.png</td>\n",
       "      <td>1</td>\n",
       "      <td>12</td>\n",
       "      <td>well2977_day12_well.png</td>\n",
       "      <td>1</td>\n",
       "      <td>13</td>\n",
       "      <td>well2977_day13_well.png</td>\n",
       "      <td>1</td>\n",
       "    </tr>\n",
       "    <tr>\n",
       "      <th>1</th>\n",
       "      <td>A2</td>\n",
       "      <td>317</td>\n",
       "      <td>0</td>\n",
       "      <td>0317</td>\n",
       "      <td>well0317_day00_well.png</td>\n",
       "      <td>1</td>\n",
       "      <td>1</td>\n",
       "      <td>well0317_day01_well.png</td>\n",
       "      <td>1</td>\n",
       "      <td>2</td>\n",
       "      <td>...</td>\n",
       "      <td>1</td>\n",
       "      <td>11</td>\n",
       "      <td>well0317_day11_well.png</td>\n",
       "      <td>1</td>\n",
       "      <td>12</td>\n",
       "      <td>well0317_day12_well.png</td>\n",
       "      <td>1</td>\n",
       "      <td>13</td>\n",
       "      <td>well0317_day13_well.png</td>\n",
       "      <td>1</td>\n",
       "    </tr>\n",
       "    <tr>\n",
       "      <th>2</th>\n",
       "      <td>A2</td>\n",
       "      <td>2617</td>\n",
       "      <td>0</td>\n",
       "      <td>2617</td>\n",
       "      <td>well2617_day00_well.png</td>\n",
       "      <td>0</td>\n",
       "      <td>1</td>\n",
       "      <td>well2617_day01_well.png</td>\n",
       "      <td>0</td>\n",
       "      <td>2</td>\n",
       "      <td>...</td>\n",
       "      <td>0</td>\n",
       "      <td>11</td>\n",
       "      <td>well2617_day11_well.png</td>\n",
       "      <td>0</td>\n",
       "      <td>12</td>\n",
       "      <td>well2617_day12_well.png</td>\n",
       "      <td>0</td>\n",
       "      <td>13</td>\n",
       "      <td>well2617_day13_well.png</td>\n",
       "      <td>0</td>\n",
       "    </tr>\n",
       "    <tr>\n",
       "      <th>3</th>\n",
       "      <td>C1</td>\n",
       "      <td>461</td>\n",
       "      <td>0</td>\n",
       "      <td>0461</td>\n",
       "      <td>well0461_day00_well.png</td>\n",
       "      <td>0</td>\n",
       "      <td>1</td>\n",
       "      <td>well0461_day01_well.png</td>\n",
       "      <td>0</td>\n",
       "      <td>2</td>\n",
       "      <td>...</td>\n",
       "      <td>0</td>\n",
       "      <td>11</td>\n",
       "      <td>well0461_day11_well.png</td>\n",
       "      <td>0</td>\n",
       "      <td>12</td>\n",
       "      <td>well0461_day12_well.png</td>\n",
       "      <td>0</td>\n",
       "      <td>13</td>\n",
       "      <td>well0461_day13_well.png</td>\n",
       "      <td>0</td>\n",
       "    </tr>\n",
       "  </tbody>\n",
       "</table>\n",
       "<p>4 rows × 45 columns</p>\n",
       "</div>"
      ],
      "text/plain": [
       "  condition  well_id  day_0 well_label             image_name_0  has_cell_0  \\\n",
       "0        C1     2977      0       2977  well2977_day00_well.png           1   \n",
       "1        A2      317      0       0317  well0317_day00_well.png           1   \n",
       "2        A2     2617      0       2617  well2617_day00_well.png           0   \n",
       "3        C1      461      0       0461  well0461_day00_well.png           0   \n",
       "\n",
       "   day_1             image_name_1  has_cell_1  day_2     ...     has_cell_10  \\\n",
       "0      1  well2977_day01_well.png           0      2     ...               1   \n",
       "1      1  well0317_day01_well.png           1      2     ...               1   \n",
       "2      1  well2617_day01_well.png           0      2     ...               0   \n",
       "3      1  well0461_day01_well.png           0      2     ...               0   \n",
       "\n",
       "   day_11            image_name_11 has_cell_11  day_12  \\\n",
       "0      11  well2977_day11_well.png           1      12   \n",
       "1      11  well0317_day11_well.png           1      12   \n",
       "2      11  well2617_day11_well.png           0      12   \n",
       "3      11  well0461_day11_well.png           0      12   \n",
       "\n",
       "             image_name_12 has_cell_12  day_13            image_name_13  \\\n",
       "0  well2977_day12_well.png           1      13  well2977_day13_well.png   \n",
       "1  well0317_day12_well.png           1      13  well0317_day13_well.png   \n",
       "2  well2617_day12_well.png           0      13  well2617_day13_well.png   \n",
       "3  well0461_day12_well.png           0      13  well0461_day13_well.png   \n",
       "\n",
       "  has_cell_13  \n",
       "0           1  \n",
       "1           1  \n",
       "2           0  \n",
       "3           0  \n",
       "\n",
       "[4 rows x 45 columns]"
      ]
     },
     "execution_count": 34,
     "metadata": {},
     "output_type": "execute_result"
    }
   ],
   "source": [
    "train.head(4)"
   ]
  },
  {
   "cell_type": "code",
   "execution_count": 24,
   "metadata": {},
   "outputs": [],
   "source": [
    "# prev.to_csv(\"A1_A2_C1_filtered_all.csv\")\n",
    "# train.to_csv(\"AA2_C1_filtered_train.csv\")\n",
    "# validation.to_csv(\"A2_C1_filtered_validation.csv\")\n",
    "# test.to_csv(\"A2_C1_filtered_test.csv\")"
   ]
  },
  {
   "cell_type": "code",
   "execution_count": null,
   "metadata": {},
   "outputs": [],
   "source": []
  }
 ],
 "metadata": {
  "kernelspec": {
   "display_name": "Python 3",
   "language": "python",
   "name": "python3"
  },
  "language_info": {
   "codemirror_mode": {
    "name": "ipython",
    "version": 3
   },
   "file_extension": ".py",
   "mimetype": "text/x-python",
   "name": "python",
   "nbconvert_exporter": "python",
   "pygments_lexer": "ipython3",
   "version": "3.7.3"
  }
 },
 "nbformat": 4,
 "nbformat_minor": 2
}
